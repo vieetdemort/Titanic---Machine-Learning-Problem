{
 "cells": [
  {
   "cell_type": "code",
   "execution_count": 1,
   "id": "34696906",
   "metadata": {
    "_cell_guid": "6adef0f7-c004-4084-a497-a096c87660ff",
    "_uuid": "abee3a4b-d46e-47f6-a4dc-77aea405fecf",
    "collapsed": false,
    "execution": {
     "iopub.execute_input": "2023-02-05T10:42:17.141067Z",
     "iopub.status.busy": "2023-02-05T10:42:17.140098Z",
     "iopub.status.idle": "2023-02-05T10:42:17.155744Z",
     "shell.execute_reply": "2023-02-05T10:42:17.154584Z"
    },
    "jupyter": {
     "outputs_hidden": false
    },
    "papermill": {
     "duration": 0.030464,
     "end_time": "2023-02-05T10:42:17.158946",
     "exception": false,
     "start_time": "2023-02-05T10:42:17.128482",
     "status": "completed"
    },
    "tags": []
   },
   "outputs": [
    {
     "name": "stdout",
     "output_type": "stream",
     "text": [
      "/kaggle/input/titanic/train.csv\n",
      "/kaggle/input/titanic/test.csv\n",
      "/kaggle/input/titanic/gender_submission.csv\n"
     ]
    }
   ],
   "source": [
    "# This Python 3 environment comes with many helpful analytics libraries installed\n",
    "# It is defined by the kaggle/python Docker image: https://github.com/kaggle/docker-python\n",
    "# For example, here's several helpful packages to load\n",
    "\n",
    "import numpy as np # linear algebra\n",
    "import pandas as pd # data processing, CSV file I/O (e.g. pd.read_csv)\n",
    "\n",
    "# Input data files are available in the read-only \"../input/\" directory\n",
    "# For example, running this (by clicking run or pressing Shift+Enter) will list all files under the input directory\n",
    "\n",
    "import os\n",
    "for dirname, _, filenames in os.walk('/kaggle/input'):\n",
    "    for filename in filenames:\n",
    "        print(os.path.join(dirname, filename))\n",
    "\n",
    "# You can write up to 20GB to the current directory (/kaggle/working/) that gets preserved as output when you create a version using \"Save & Run All\" \n",
    "# You can also write temporary files to /kaggle/temp/, but they won't be saved outside of the current session"
   ]
  },
  {
   "cell_type": "code",
   "execution_count": 2,
   "id": "af8b27b3",
   "metadata": {
    "_cell_guid": "aa26a0b3-bb8f-4211-84bb-49873cb4635f",
    "_uuid": "69a8a62a-ab6b-4709-bbba-5dd4de582215",
    "collapsed": false,
    "execution": {
     "iopub.execute_input": "2023-02-05T10:42:17.178738Z",
     "iopub.status.busy": "2023-02-05T10:42:17.178225Z",
     "iopub.status.idle": "2023-02-05T10:42:17.213830Z",
     "shell.execute_reply": "2023-02-05T10:42:17.212973Z"
    },
    "jupyter": {
     "outputs_hidden": false
    },
    "papermill": {
     "duration": 0.048091,
     "end_time": "2023-02-05T10:42:17.216241",
     "exception": false,
     "start_time": "2023-02-05T10:42:17.168150",
     "status": "completed"
    },
    "tags": []
   },
   "outputs": [],
   "source": [
    "train = pd.read_csv('/kaggle/input/titanic/train.csv')\n",
    "test = pd.read_csv('/kaggle/input/titanic/test.csv')\n",
    "gs = pd.read_csv('/kaggle/input/titanic/gender_submission.csv')"
   ]
  },
  {
   "cell_type": "code",
   "execution_count": 3,
   "id": "cf98da71",
   "metadata": {
    "_cell_guid": "a430438a-4c2f-4f01-8ca4-aab0fcab7507",
    "_uuid": "18975a3b-ca9d-40eb-b79e-5eead490340c",
    "collapsed": false,
    "execution": {
     "iopub.execute_input": "2023-02-05T10:42:17.235346Z",
     "iopub.status.busy": "2023-02-05T10:42:17.234637Z",
     "iopub.status.idle": "2023-02-05T10:42:17.266280Z",
     "shell.execute_reply": "2023-02-05T10:42:17.265105Z"
    },
    "jupyter": {
     "outputs_hidden": false
    },
    "papermill": {
     "duration": 0.043792,
     "end_time": "2023-02-05T10:42:17.268591",
     "exception": false,
     "start_time": "2023-02-05T10:42:17.224799",
     "status": "completed"
    },
    "tags": []
   },
   "outputs": [],
   "source": [
    "test = test.merge(gs, how='left', on='PassengerId')"
   ]
  },
  {
   "cell_type": "code",
   "execution_count": 4,
   "id": "a4c31a34",
   "metadata": {
    "_cell_guid": "6df5e8da-8db4-4949-8a3d-727c020850dd",
    "_uuid": "74aa356e-4e54-4877-b013-09eda737dc7f",
    "collapsed": false,
    "execution": {
     "iopub.execute_input": "2023-02-05T10:42:17.287476Z",
     "iopub.status.busy": "2023-02-05T10:42:17.287074Z",
     "iopub.status.idle": "2023-02-05T10:42:17.316895Z",
     "shell.execute_reply": "2023-02-05T10:42:17.315944Z"
    },
    "jupyter": {
     "outputs_hidden": false
    },
    "papermill": {
     "duration": 0.04215,
     "end_time": "2023-02-05T10:42:17.319423",
     "exception": false,
     "start_time": "2023-02-05T10:42:17.277273",
     "status": "completed"
    },
    "tags": []
   },
   "outputs": [
    {
     "data": {
      "text/html": [
       "<div>\n",
       "<style scoped>\n",
       "    .dataframe tbody tr th:only-of-type {\n",
       "        vertical-align: middle;\n",
       "    }\n",
       "\n",
       "    .dataframe tbody tr th {\n",
       "        vertical-align: top;\n",
       "    }\n",
       "\n",
       "    .dataframe thead th {\n",
       "        text-align: right;\n",
       "    }\n",
       "</style>\n",
       "<table border=\"1\" class=\"dataframe\">\n",
       "  <thead>\n",
       "    <tr style=\"text-align: right;\">\n",
       "      <th></th>\n",
       "      <th>PassengerId</th>\n",
       "      <th>Survived</th>\n",
       "      <th>Pclass</th>\n",
       "      <th>Name</th>\n",
       "      <th>Sex</th>\n",
       "      <th>Age</th>\n",
       "      <th>SibSp</th>\n",
       "      <th>Parch</th>\n",
       "      <th>Ticket</th>\n",
       "      <th>Fare</th>\n",
       "      <th>Cabin</th>\n",
       "      <th>Embarked</th>\n",
       "    </tr>\n",
       "  </thead>\n",
       "  <tbody>\n",
       "    <tr>\n",
       "      <th>0</th>\n",
       "      <td>1</td>\n",
       "      <td>0</td>\n",
       "      <td>3</td>\n",
       "      <td>Braund, Mr. Owen Harris</td>\n",
       "      <td>male</td>\n",
       "      <td>22.0</td>\n",
       "      <td>1</td>\n",
       "      <td>0</td>\n",
       "      <td>A/5 21171</td>\n",
       "      <td>7.2500</td>\n",
       "      <td>NaN</td>\n",
       "      <td>S</td>\n",
       "    </tr>\n",
       "    <tr>\n",
       "      <th>1</th>\n",
       "      <td>2</td>\n",
       "      <td>1</td>\n",
       "      <td>1</td>\n",
       "      <td>Cumings, Mrs. John Bradley (Florence Briggs Th...</td>\n",
       "      <td>female</td>\n",
       "      <td>38.0</td>\n",
       "      <td>1</td>\n",
       "      <td>0</td>\n",
       "      <td>PC 17599</td>\n",
       "      <td>71.2833</td>\n",
       "      <td>C85</td>\n",
       "      <td>C</td>\n",
       "    </tr>\n",
       "    <tr>\n",
       "      <th>2</th>\n",
       "      <td>3</td>\n",
       "      <td>1</td>\n",
       "      <td>3</td>\n",
       "      <td>Heikkinen, Miss. Laina</td>\n",
       "      <td>female</td>\n",
       "      <td>26.0</td>\n",
       "      <td>0</td>\n",
       "      <td>0</td>\n",
       "      <td>STON/O2. 3101282</td>\n",
       "      <td>7.9250</td>\n",
       "      <td>NaN</td>\n",
       "      <td>S</td>\n",
       "    </tr>\n",
       "    <tr>\n",
       "      <th>3</th>\n",
       "      <td>4</td>\n",
       "      <td>1</td>\n",
       "      <td>1</td>\n",
       "      <td>Futrelle, Mrs. Jacques Heath (Lily May Peel)</td>\n",
       "      <td>female</td>\n",
       "      <td>35.0</td>\n",
       "      <td>1</td>\n",
       "      <td>0</td>\n",
       "      <td>113803</td>\n",
       "      <td>53.1000</td>\n",
       "      <td>C123</td>\n",
       "      <td>S</td>\n",
       "    </tr>\n",
       "    <tr>\n",
       "      <th>4</th>\n",
       "      <td>5</td>\n",
       "      <td>0</td>\n",
       "      <td>3</td>\n",
       "      <td>Allen, Mr. William Henry</td>\n",
       "      <td>male</td>\n",
       "      <td>35.0</td>\n",
       "      <td>0</td>\n",
       "      <td>0</td>\n",
       "      <td>373450</td>\n",
       "      <td>8.0500</td>\n",
       "      <td>NaN</td>\n",
       "      <td>S</td>\n",
       "    </tr>\n",
       "  </tbody>\n",
       "</table>\n",
       "</div>"
      ],
      "text/plain": [
       "   PassengerId  Survived  Pclass  \\\n",
       "0            1         0       3   \n",
       "1            2         1       1   \n",
       "2            3         1       3   \n",
       "3            4         1       1   \n",
       "4            5         0       3   \n",
       "\n",
       "                                                Name     Sex   Age  SibSp  \\\n",
       "0                            Braund, Mr. Owen Harris    male  22.0      1   \n",
       "1  Cumings, Mrs. John Bradley (Florence Briggs Th...  female  38.0      1   \n",
       "2                             Heikkinen, Miss. Laina  female  26.0      0   \n",
       "3       Futrelle, Mrs. Jacques Heath (Lily May Peel)  female  35.0      1   \n",
       "4                           Allen, Mr. William Henry    male  35.0      0   \n",
       "\n",
       "   Parch            Ticket     Fare Cabin Embarked  \n",
       "0      0         A/5 21171   7.2500   NaN        S  \n",
       "1      0          PC 17599  71.2833   C85        C  \n",
       "2      0  STON/O2. 3101282   7.9250   NaN        S  \n",
       "3      0            113803  53.1000  C123        S  \n",
       "4      0            373450   8.0500   NaN        S  "
      ]
     },
     "execution_count": 4,
     "metadata": {},
     "output_type": "execute_result"
    }
   ],
   "source": [
    "df = pd.concat([train, test], axis = 0).reset_index(drop=True)\n",
    "df.head()"
   ]
  },
  {
   "cell_type": "markdown",
   "id": "bbf8bd33",
   "metadata": {
    "_cell_guid": "ed0fe5dc-e7fa-48e5-9ff4-fc0a09c3d473",
    "_uuid": "78a39236-8e0d-43d2-aaf6-32e5a4c8f535",
    "papermill": {
     "duration": 0.008147,
     "end_time": "2023-02-05T10:42:17.338126",
     "exception": false,
     "start_time": "2023-02-05T10:42:17.329979",
     "status": "completed"
    },
    "tags": []
   },
   "source": [
    "# Step 1: **Analyzing and Cleaning Dataset**"
   ]
  },
  {
   "cell_type": "code",
   "execution_count": 5,
   "id": "d35391b6",
   "metadata": {
    "execution": {
     "iopub.execute_input": "2023-02-05T10:42:17.357164Z",
     "iopub.status.busy": "2023-02-05T10:42:17.356741Z",
     "iopub.status.idle": "2023-02-05T10:42:17.376178Z",
     "shell.execute_reply": "2023-02-05T10:42:17.374717Z"
    },
    "papermill": {
     "duration": 0.032209,
     "end_time": "2023-02-05T10:42:17.378825",
     "exception": false,
     "start_time": "2023-02-05T10:42:17.346616",
     "status": "completed"
    },
    "tags": []
   },
   "outputs": [
    {
     "name": "stdout",
     "output_type": "stream",
     "text": [
      "<class 'pandas.core.frame.DataFrame'>\n",
      "RangeIndex: 1309 entries, 0 to 1308\n",
      "Data columns (total 12 columns):\n",
      " #   Column       Non-Null Count  Dtype  \n",
      "---  ------       --------------  -----  \n",
      " 0   PassengerId  1309 non-null   int64  \n",
      " 1   Survived     1309 non-null   int64  \n",
      " 2   Pclass       1309 non-null   int64  \n",
      " 3   Name         1309 non-null   object \n",
      " 4   Sex          1309 non-null   object \n",
      " 5   Age          1046 non-null   float64\n",
      " 6   SibSp        1309 non-null   int64  \n",
      " 7   Parch        1309 non-null   int64  \n",
      " 8   Ticket       1309 non-null   object \n",
      " 9   Fare         1308 non-null   float64\n",
      " 10  Cabin        295 non-null    object \n",
      " 11  Embarked     1307 non-null   object \n",
      "dtypes: float64(2), int64(5), object(5)\n",
      "memory usage: 122.8+ KB\n"
     ]
    }
   ],
   "source": [
    "df.info()"
   ]
  },
  {
   "cell_type": "code",
   "execution_count": 6,
   "id": "fa5ed67c",
   "metadata": {
    "_cell_guid": "a23c9002-b544-419a-aa79-f23cad4e4a6f",
    "_uuid": "88fc6341-472f-42d2-bf95-78f729072cc6",
    "collapsed": false,
    "execution": {
     "iopub.execute_input": "2023-02-05T10:42:17.397930Z",
     "iopub.status.busy": "2023-02-05T10:42:17.397485Z",
     "iopub.status.idle": "2023-02-05T10:42:17.442139Z",
     "shell.execute_reply": "2023-02-05T10:42:17.440824Z"
    },
    "jupyter": {
     "outputs_hidden": false
    },
    "papermill": {
     "duration": 0.057098,
     "end_time": "2023-02-05T10:42:17.444552",
     "exception": false,
     "start_time": "2023-02-05T10:42:17.387454",
     "status": "completed"
    },
    "tags": []
   },
   "outputs": [
    {
     "data": {
      "text/html": [
       "<div>\n",
       "<style scoped>\n",
       "    .dataframe tbody tr th:only-of-type {\n",
       "        vertical-align: middle;\n",
       "    }\n",
       "\n",
       "    .dataframe tbody tr th {\n",
       "        vertical-align: top;\n",
       "    }\n",
       "\n",
       "    .dataframe thead th {\n",
       "        text-align: right;\n",
       "    }\n",
       "</style>\n",
       "<table border=\"1\" class=\"dataframe\">\n",
       "  <thead>\n",
       "    <tr style=\"text-align: right;\">\n",
       "      <th></th>\n",
       "      <th>count</th>\n",
       "      <th>unique</th>\n",
       "      <th>top</th>\n",
       "      <th>freq</th>\n",
       "      <th>mean</th>\n",
       "      <th>std</th>\n",
       "      <th>min</th>\n",
       "      <th>25%</th>\n",
       "      <th>50%</th>\n",
       "      <th>75%</th>\n",
       "      <th>max</th>\n",
       "    </tr>\n",
       "  </thead>\n",
       "  <tbody>\n",
       "    <tr>\n",
       "      <th>PassengerId</th>\n",
       "      <td>1309.0</td>\n",
       "      <td>NaN</td>\n",
       "      <td>NaN</td>\n",
       "      <td>NaN</td>\n",
       "      <td>655.0</td>\n",
       "      <td>378.020061</td>\n",
       "      <td>1.0</td>\n",
       "      <td>328.0</td>\n",
       "      <td>655.0</td>\n",
       "      <td>982.0</td>\n",
       "      <td>1309.0</td>\n",
       "    </tr>\n",
       "    <tr>\n",
       "      <th>Survived</th>\n",
       "      <td>1309.0</td>\n",
       "      <td>NaN</td>\n",
       "      <td>NaN</td>\n",
       "      <td>NaN</td>\n",
       "      <td>0.377387</td>\n",
       "      <td>0.484918</td>\n",
       "      <td>0.0</td>\n",
       "      <td>0.0</td>\n",
       "      <td>0.0</td>\n",
       "      <td>1.0</td>\n",
       "      <td>1.0</td>\n",
       "    </tr>\n",
       "    <tr>\n",
       "      <th>Pclass</th>\n",
       "      <td>1309.0</td>\n",
       "      <td>NaN</td>\n",
       "      <td>NaN</td>\n",
       "      <td>NaN</td>\n",
       "      <td>2.294882</td>\n",
       "      <td>0.837836</td>\n",
       "      <td>1.0</td>\n",
       "      <td>2.0</td>\n",
       "      <td>3.0</td>\n",
       "      <td>3.0</td>\n",
       "      <td>3.0</td>\n",
       "    </tr>\n",
       "    <tr>\n",
       "      <th>Name</th>\n",
       "      <td>1309</td>\n",
       "      <td>1307</td>\n",
       "      <td>Connolly, Miss. Kate</td>\n",
       "      <td>2</td>\n",
       "      <td>NaN</td>\n",
       "      <td>NaN</td>\n",
       "      <td>NaN</td>\n",
       "      <td>NaN</td>\n",
       "      <td>NaN</td>\n",
       "      <td>NaN</td>\n",
       "      <td>NaN</td>\n",
       "    </tr>\n",
       "    <tr>\n",
       "      <th>Sex</th>\n",
       "      <td>1309</td>\n",
       "      <td>2</td>\n",
       "      <td>male</td>\n",
       "      <td>843</td>\n",
       "      <td>NaN</td>\n",
       "      <td>NaN</td>\n",
       "      <td>NaN</td>\n",
       "      <td>NaN</td>\n",
       "      <td>NaN</td>\n",
       "      <td>NaN</td>\n",
       "      <td>NaN</td>\n",
       "    </tr>\n",
       "    <tr>\n",
       "      <th>Age</th>\n",
       "      <td>1046.0</td>\n",
       "      <td>NaN</td>\n",
       "      <td>NaN</td>\n",
       "      <td>NaN</td>\n",
       "      <td>29.881138</td>\n",
       "      <td>14.413493</td>\n",
       "      <td>0.17</td>\n",
       "      <td>21.0</td>\n",
       "      <td>28.0</td>\n",
       "      <td>39.0</td>\n",
       "      <td>80.0</td>\n",
       "    </tr>\n",
       "    <tr>\n",
       "      <th>SibSp</th>\n",
       "      <td>1309.0</td>\n",
       "      <td>NaN</td>\n",
       "      <td>NaN</td>\n",
       "      <td>NaN</td>\n",
       "      <td>0.498854</td>\n",
       "      <td>1.041658</td>\n",
       "      <td>0.0</td>\n",
       "      <td>0.0</td>\n",
       "      <td>0.0</td>\n",
       "      <td>1.0</td>\n",
       "      <td>8.0</td>\n",
       "    </tr>\n",
       "    <tr>\n",
       "      <th>Parch</th>\n",
       "      <td>1309.0</td>\n",
       "      <td>NaN</td>\n",
       "      <td>NaN</td>\n",
       "      <td>NaN</td>\n",
       "      <td>0.385027</td>\n",
       "      <td>0.86556</td>\n",
       "      <td>0.0</td>\n",
       "      <td>0.0</td>\n",
       "      <td>0.0</td>\n",
       "      <td>0.0</td>\n",
       "      <td>9.0</td>\n",
       "    </tr>\n",
       "    <tr>\n",
       "      <th>Ticket</th>\n",
       "      <td>1309</td>\n",
       "      <td>929</td>\n",
       "      <td>CA. 2343</td>\n",
       "      <td>11</td>\n",
       "      <td>NaN</td>\n",
       "      <td>NaN</td>\n",
       "      <td>NaN</td>\n",
       "      <td>NaN</td>\n",
       "      <td>NaN</td>\n",
       "      <td>NaN</td>\n",
       "      <td>NaN</td>\n",
       "    </tr>\n",
       "    <tr>\n",
       "      <th>Fare</th>\n",
       "      <td>1308.0</td>\n",
       "      <td>NaN</td>\n",
       "      <td>NaN</td>\n",
       "      <td>NaN</td>\n",
       "      <td>33.295479</td>\n",
       "      <td>51.758668</td>\n",
       "      <td>0.0</td>\n",
       "      <td>7.8958</td>\n",
       "      <td>14.4542</td>\n",
       "      <td>31.275</td>\n",
       "      <td>512.3292</td>\n",
       "    </tr>\n",
       "    <tr>\n",
       "      <th>Cabin</th>\n",
       "      <td>295</td>\n",
       "      <td>186</td>\n",
       "      <td>C23 C25 C27</td>\n",
       "      <td>6</td>\n",
       "      <td>NaN</td>\n",
       "      <td>NaN</td>\n",
       "      <td>NaN</td>\n",
       "      <td>NaN</td>\n",
       "      <td>NaN</td>\n",
       "      <td>NaN</td>\n",
       "      <td>NaN</td>\n",
       "    </tr>\n",
       "    <tr>\n",
       "      <th>Embarked</th>\n",
       "      <td>1307</td>\n",
       "      <td>3</td>\n",
       "      <td>S</td>\n",
       "      <td>914</td>\n",
       "      <td>NaN</td>\n",
       "      <td>NaN</td>\n",
       "      <td>NaN</td>\n",
       "      <td>NaN</td>\n",
       "      <td>NaN</td>\n",
       "      <td>NaN</td>\n",
       "      <td>NaN</td>\n",
       "    </tr>\n",
       "  </tbody>\n",
       "</table>\n",
       "</div>"
      ],
      "text/plain": [
       "              count unique                   top freq       mean         std  \\\n",
       "PassengerId  1309.0    NaN                   NaN  NaN      655.0  378.020061   \n",
       "Survived     1309.0    NaN                   NaN  NaN   0.377387    0.484918   \n",
       "Pclass       1309.0    NaN                   NaN  NaN   2.294882    0.837836   \n",
       "Name           1309   1307  Connolly, Miss. Kate    2        NaN         NaN   \n",
       "Sex            1309      2                  male  843        NaN         NaN   \n",
       "Age          1046.0    NaN                   NaN  NaN  29.881138   14.413493   \n",
       "SibSp        1309.0    NaN                   NaN  NaN   0.498854    1.041658   \n",
       "Parch        1309.0    NaN                   NaN  NaN   0.385027     0.86556   \n",
       "Ticket         1309    929              CA. 2343   11        NaN         NaN   \n",
       "Fare         1308.0    NaN                   NaN  NaN  33.295479   51.758668   \n",
       "Cabin           295    186           C23 C25 C27    6        NaN         NaN   \n",
       "Embarked       1307      3                     S  914        NaN         NaN   \n",
       "\n",
       "              min     25%      50%     75%       max  \n",
       "PassengerId   1.0   328.0    655.0   982.0    1309.0  \n",
       "Survived      0.0     0.0      0.0     1.0       1.0  \n",
       "Pclass        1.0     2.0      3.0     3.0       3.0  \n",
       "Name          NaN     NaN      NaN     NaN       NaN  \n",
       "Sex           NaN     NaN      NaN     NaN       NaN  \n",
       "Age          0.17    21.0     28.0    39.0      80.0  \n",
       "SibSp         0.0     0.0      0.0     1.0       8.0  \n",
       "Parch         0.0     0.0      0.0     0.0       9.0  \n",
       "Ticket        NaN     NaN      NaN     NaN       NaN  \n",
       "Fare          0.0  7.8958  14.4542  31.275  512.3292  \n",
       "Cabin         NaN     NaN      NaN     NaN       NaN  \n",
       "Embarked      NaN     NaN      NaN     NaN       NaN  "
      ]
     },
     "execution_count": 6,
     "metadata": {},
     "output_type": "execute_result"
    }
   ],
   "source": [
    "df.describe(include='all').T"
   ]
  },
  {
   "cell_type": "code",
   "execution_count": 7,
   "id": "d7ed285c",
   "metadata": {
    "_cell_guid": "af29d894-d8a0-49c9-ad67-0f81419c7d48",
    "_uuid": "9a35c59b-822e-45f2-9e52-22607f90f373",
    "collapsed": false,
    "execution": {
     "iopub.execute_input": "2023-02-05T10:42:17.464599Z",
     "iopub.status.busy": "2023-02-05T10:42:17.464209Z",
     "iopub.status.idle": "2023-02-05T10:42:17.473075Z",
     "shell.execute_reply": "2023-02-05T10:42:17.471918Z"
    },
    "jupyter": {
     "outputs_hidden": false
    },
    "papermill": {
     "duration": 0.021545,
     "end_time": "2023-02-05T10:42:17.475299",
     "exception": false,
     "start_time": "2023-02-05T10:42:17.453754",
     "status": "completed"
    },
    "tags": []
   },
   "outputs": [
    {
     "data": {
      "text/plain": [
       "0    0.622613\n",
       "1    0.377387\n",
       "Name: Survived, dtype: float64"
      ]
     },
     "execution_count": 7,
     "metadata": {},
     "output_type": "execute_result"
    }
   ],
   "source": [
    "df['Survived'].value_counts(normalize=True)"
   ]
  },
  {
   "cell_type": "code",
   "execution_count": 8,
   "id": "89925dfc",
   "metadata": {
    "_cell_guid": "9d45d535-5ea3-4322-8697-e05968852ef1",
    "_uuid": "a149474f-2236-45f2-94f1-b7392cfa3024",
    "collapsed": false,
    "execution": {
     "iopub.execute_input": "2023-02-05T10:42:17.495460Z",
     "iopub.status.busy": "2023-02-05T10:42:17.495068Z",
     "iopub.status.idle": "2023-02-05T10:42:17.503567Z",
     "shell.execute_reply": "2023-02-05T10:42:17.502510Z"
    },
    "jupyter": {
     "outputs_hidden": false
    },
    "papermill": {
     "duration": 0.021214,
     "end_time": "2023-02-05T10:42:17.505677",
     "exception": false,
     "start_time": "2023-02-05T10:42:17.484463",
     "status": "completed"
    },
    "tags": []
   },
   "outputs": [
    {
     "data": {
      "text/plain": [
       "PassengerId      int64\n",
       "Survived         int64\n",
       "Pclass           int64\n",
       "Name            object\n",
       "Sex             object\n",
       "Age            float64\n",
       "SibSp            int64\n",
       "Parch            int64\n",
       "Ticket          object\n",
       "Fare           float64\n",
       "Cabin           object\n",
       "Embarked        object\n",
       "dtype: object"
      ]
     },
     "execution_count": 8,
     "metadata": {},
     "output_type": "execute_result"
    }
   ],
   "source": [
    "df.dtypes"
   ]
  },
  {
   "cell_type": "code",
   "execution_count": 9,
   "id": "940413a2",
   "metadata": {
    "_cell_guid": "777646c9-5374-4986-89ce-8eb76d08f5d5",
    "_uuid": "305a9a94-d7bf-4a19-bf07-9fc3f31d107a",
    "collapsed": false,
    "execution": {
     "iopub.execute_input": "2023-02-05T10:42:17.525800Z",
     "iopub.status.busy": "2023-02-05T10:42:17.525408Z",
     "iopub.status.idle": "2023-02-05T10:42:17.529831Z",
     "shell.execute_reply": "2023-02-05T10:42:17.528817Z"
    },
    "jupyter": {
     "outputs_hidden": false
    },
    "papermill": {
     "duration": 0.017134,
     "end_time": "2023-02-05T10:42:17.532091",
     "exception": false,
     "start_time": "2023-02-05T10:42:17.514957",
     "status": "completed"
    },
    "tags": []
   },
   "outputs": [],
   "source": [
    "# import seaborn as sns\n",
    "# sns.pairplot(df, hue=\"Survived\", palette='pastel')"
   ]
  },
  {
   "cell_type": "code",
   "execution_count": 10,
   "id": "1f26baf5",
   "metadata": {
    "_cell_guid": "ae7dabe1-a6e6-4c7e-b2a7-624b3dd53eb3",
    "_uuid": "7910a08c-d6e8-402f-b582-24ebda0e23cc",
    "collapsed": false,
    "execution": {
     "iopub.execute_input": "2023-02-05T10:42:17.552209Z",
     "iopub.status.busy": "2023-02-05T10:42:17.551800Z",
     "iopub.status.idle": "2023-02-05T10:42:17.559538Z",
     "shell.execute_reply": "2023-02-05T10:42:17.558364Z"
    },
    "jupyter": {
     "outputs_hidden": false
    },
    "papermill": {
     "duration": 0.020583,
     "end_time": "2023-02-05T10:42:17.561790",
     "exception": false,
     "start_time": "2023-02-05T10:42:17.541207",
     "status": "completed"
    },
    "tags": []
   },
   "outputs": [
    {
     "data": {
      "text/plain": [
       "['Name', 'Sex', 'Ticket', 'Cabin', 'Embarked']"
      ]
     },
     "execution_count": 10,
     "metadata": {},
     "output_type": "execute_result"
    }
   ],
   "source": [
    "object_df = [i for i in df.columns if df[i].dtypes == 'object']\n",
    "object_df"
   ]
  },
  {
   "cell_type": "code",
   "execution_count": 11,
   "id": "81efd3ef",
   "metadata": {
    "_cell_guid": "566f7f7e-b250-459f-bb94-495fbbcef414",
    "_uuid": "5f24cb69-5f7e-436f-b18a-1e5d66ec295e",
    "collapsed": false,
    "execution": {
     "iopub.execute_input": "2023-02-05T10:42:17.582570Z",
     "iopub.status.busy": "2023-02-05T10:42:17.582199Z",
     "iopub.status.idle": "2023-02-05T10:42:17.591009Z",
     "shell.execute_reply": "2023-02-05T10:42:17.590189Z"
    },
    "jupyter": {
     "outputs_hidden": false
    },
    "papermill": {
     "duration": 0.021768,
     "end_time": "2023-02-05T10:42:17.593029",
     "exception": false,
     "start_time": "2023-02-05T10:42:17.571261",
     "status": "completed"
    },
    "tags": []
   },
   "outputs": [],
   "source": [
    "x = df[\"Age\"].median()\n",
    "df[\"Age\"].fillna(x, inplace = True)\n",
    "\n",
    "y = df[\"Fare\"].median()\n",
    "df[\"Fare\"].fillna(y, inplace = True)\n",
    "\n",
    "df[\"Embarked\"].fillna(method=\"ffill\", inplace = True)"
   ]
  },
  {
   "cell_type": "code",
   "execution_count": 12,
   "id": "c34cada1",
   "metadata": {
    "_cell_guid": "cfb7e75c-7cf7-419b-bcc7-c560949dd60c",
    "_uuid": "9e298813-8379-46f6-a53a-5f2d02bebfe1",
    "collapsed": false,
    "execution": {
     "iopub.execute_input": "2023-02-05T10:42:17.613548Z",
     "iopub.status.busy": "2023-02-05T10:42:17.613126Z",
     "iopub.status.idle": "2023-02-05T10:42:17.622528Z",
     "shell.execute_reply": "2023-02-05T10:42:17.621793Z"
    },
    "jupyter": {
     "outputs_hidden": false
    },
    "papermill": {
     "duration": 0.022147,
     "end_time": "2023-02-05T10:42:17.624531",
     "exception": false,
     "start_time": "2023-02-05T10:42:17.602384",
     "status": "completed"
    },
    "tags": []
   },
   "outputs": [
    {
     "data": {
      "text/plain": [
       "PassengerId    0.000000\n",
       "Survived       0.000000\n",
       "Pclass         0.000000\n",
       "Name           0.000000\n",
       "Sex            0.000000\n",
       "Age            0.000000\n",
       "SibSp          0.000000\n",
       "Parch          0.000000\n",
       "Ticket         0.000000\n",
       "Fare           0.000000\n",
       "Cabin          0.774637\n",
       "Embarked       0.000000\n",
       "dtype: float64"
      ]
     },
     "execution_count": 12,
     "metadata": {},
     "output_type": "execute_result"
    }
   ],
   "source": [
    "df.isna().mean()"
   ]
  },
  {
   "cell_type": "code",
   "execution_count": 13,
   "id": "5af88acb",
   "metadata": {
    "_cell_guid": "05ddce68-1ff3-4d25-bcbb-fc75bac03805",
    "_uuid": "017760c5-4907-4fbb-ba93-71e5eeb548fa",
    "collapsed": false,
    "execution": {
     "iopub.execute_input": "2023-02-05T10:42:17.645477Z",
     "iopub.status.busy": "2023-02-05T10:42:17.645107Z",
     "iopub.status.idle": "2023-02-05T10:42:17.668077Z",
     "shell.execute_reply": "2023-02-05T10:42:17.666954Z"
    },
    "jupyter": {
     "outputs_hidden": false
    },
    "papermill": {
     "duration": 0.036191,
     "end_time": "2023-02-05T10:42:17.670364",
     "exception": false,
     "start_time": "2023-02-05T10:42:17.634173",
     "status": "completed"
    },
    "tags": []
   },
   "outputs": [
    {
     "data": {
      "text/html": [
       "<div>\n",
       "<style scoped>\n",
       "    .dataframe tbody tr th:only-of-type {\n",
       "        vertical-align: middle;\n",
       "    }\n",
       "\n",
       "    .dataframe tbody tr th {\n",
       "        vertical-align: top;\n",
       "    }\n",
       "\n",
       "    .dataframe thead th {\n",
       "        text-align: right;\n",
       "    }\n",
       "</style>\n",
       "<table border=\"1\" class=\"dataframe\">\n",
       "  <thead>\n",
       "    <tr style=\"text-align: right;\">\n",
       "      <th></th>\n",
       "      <th>PassengerId</th>\n",
       "      <th>Survived</th>\n",
       "      <th>Pclass</th>\n",
       "      <th>Sex</th>\n",
       "      <th>Age</th>\n",
       "      <th>SibSp</th>\n",
       "      <th>Parch</th>\n",
       "      <th>Fare</th>\n",
       "      <th>Embarked</th>\n",
       "    </tr>\n",
       "  </thead>\n",
       "  <tbody>\n",
       "    <tr>\n",
       "      <th>0</th>\n",
       "      <td>1</td>\n",
       "      <td>0</td>\n",
       "      <td>3</td>\n",
       "      <td>male</td>\n",
       "      <td>22.0</td>\n",
       "      <td>1</td>\n",
       "      <td>0</td>\n",
       "      <td>7.2500</td>\n",
       "      <td>S</td>\n",
       "    </tr>\n",
       "    <tr>\n",
       "      <th>1</th>\n",
       "      <td>2</td>\n",
       "      <td>1</td>\n",
       "      <td>1</td>\n",
       "      <td>female</td>\n",
       "      <td>38.0</td>\n",
       "      <td>1</td>\n",
       "      <td>0</td>\n",
       "      <td>71.2833</td>\n",
       "      <td>C</td>\n",
       "    </tr>\n",
       "    <tr>\n",
       "      <th>2</th>\n",
       "      <td>3</td>\n",
       "      <td>1</td>\n",
       "      <td>3</td>\n",
       "      <td>female</td>\n",
       "      <td>26.0</td>\n",
       "      <td>0</td>\n",
       "      <td>0</td>\n",
       "      <td>7.9250</td>\n",
       "      <td>S</td>\n",
       "    </tr>\n",
       "    <tr>\n",
       "      <th>3</th>\n",
       "      <td>4</td>\n",
       "      <td>1</td>\n",
       "      <td>1</td>\n",
       "      <td>female</td>\n",
       "      <td>35.0</td>\n",
       "      <td>1</td>\n",
       "      <td>0</td>\n",
       "      <td>53.1000</td>\n",
       "      <td>S</td>\n",
       "    </tr>\n",
       "    <tr>\n",
       "      <th>4</th>\n",
       "      <td>5</td>\n",
       "      <td>0</td>\n",
       "      <td>3</td>\n",
       "      <td>male</td>\n",
       "      <td>35.0</td>\n",
       "      <td>0</td>\n",
       "      <td>0</td>\n",
       "      <td>8.0500</td>\n",
       "      <td>S</td>\n",
       "    </tr>\n",
       "    <tr>\n",
       "      <th>...</th>\n",
       "      <td>...</td>\n",
       "      <td>...</td>\n",
       "      <td>...</td>\n",
       "      <td>...</td>\n",
       "      <td>...</td>\n",
       "      <td>...</td>\n",
       "      <td>...</td>\n",
       "      <td>...</td>\n",
       "      <td>...</td>\n",
       "    </tr>\n",
       "    <tr>\n",
       "      <th>1304</th>\n",
       "      <td>1305</td>\n",
       "      <td>0</td>\n",
       "      <td>3</td>\n",
       "      <td>male</td>\n",
       "      <td>28.0</td>\n",
       "      <td>0</td>\n",
       "      <td>0</td>\n",
       "      <td>8.0500</td>\n",
       "      <td>S</td>\n",
       "    </tr>\n",
       "    <tr>\n",
       "      <th>1305</th>\n",
       "      <td>1306</td>\n",
       "      <td>1</td>\n",
       "      <td>1</td>\n",
       "      <td>female</td>\n",
       "      <td>39.0</td>\n",
       "      <td>0</td>\n",
       "      <td>0</td>\n",
       "      <td>108.9000</td>\n",
       "      <td>C</td>\n",
       "    </tr>\n",
       "    <tr>\n",
       "      <th>1306</th>\n",
       "      <td>1307</td>\n",
       "      <td>0</td>\n",
       "      <td>3</td>\n",
       "      <td>male</td>\n",
       "      <td>38.5</td>\n",
       "      <td>0</td>\n",
       "      <td>0</td>\n",
       "      <td>7.2500</td>\n",
       "      <td>S</td>\n",
       "    </tr>\n",
       "    <tr>\n",
       "      <th>1307</th>\n",
       "      <td>1308</td>\n",
       "      <td>0</td>\n",
       "      <td>3</td>\n",
       "      <td>male</td>\n",
       "      <td>28.0</td>\n",
       "      <td>0</td>\n",
       "      <td>0</td>\n",
       "      <td>8.0500</td>\n",
       "      <td>S</td>\n",
       "    </tr>\n",
       "    <tr>\n",
       "      <th>1308</th>\n",
       "      <td>1309</td>\n",
       "      <td>0</td>\n",
       "      <td>3</td>\n",
       "      <td>male</td>\n",
       "      <td>28.0</td>\n",
       "      <td>1</td>\n",
       "      <td>1</td>\n",
       "      <td>22.3583</td>\n",
       "      <td>C</td>\n",
       "    </tr>\n",
       "  </tbody>\n",
       "</table>\n",
       "<p>1309 rows × 9 columns</p>\n",
       "</div>"
      ],
      "text/plain": [
       "      PassengerId  Survived  Pclass     Sex   Age  SibSp  Parch      Fare  \\\n",
       "0               1         0       3    male  22.0      1      0    7.2500   \n",
       "1               2         1       1  female  38.0      1      0   71.2833   \n",
       "2               3         1       3  female  26.0      0      0    7.9250   \n",
       "3               4         1       1  female  35.0      1      0   53.1000   \n",
       "4               5         0       3    male  35.0      0      0    8.0500   \n",
       "...           ...       ...     ...     ...   ...    ...    ...       ...   \n",
       "1304         1305         0       3    male  28.0      0      0    8.0500   \n",
       "1305         1306         1       1  female  39.0      0      0  108.9000   \n",
       "1306         1307         0       3    male  38.5      0      0    7.2500   \n",
       "1307         1308         0       3    male  28.0      0      0    8.0500   \n",
       "1308         1309         0       3    male  28.0      1      1   22.3583   \n",
       "\n",
       "     Embarked  \n",
       "0           S  \n",
       "1           C  \n",
       "2           S  \n",
       "3           S  \n",
       "4           S  \n",
       "...       ...  \n",
       "1304        S  \n",
       "1305        C  \n",
       "1306        S  \n",
       "1307        S  \n",
       "1308        C  \n",
       "\n",
       "[1309 rows x 9 columns]"
      ]
     },
     "execution_count": 13,
     "metadata": {},
     "output_type": "execute_result"
    }
   ],
   "source": [
    "df = df.drop(columns=['Cabin', 'Name', 'Ticket'], axis=1)\n",
    "df"
   ]
  },
  {
   "cell_type": "code",
   "execution_count": 14,
   "id": "5c307806",
   "metadata": {
    "_cell_guid": "2d59df9b-9df0-4125-be8d-9035894fe49d",
    "_uuid": "6dfeffb7-13f6-4987-abcf-1e9db8b00c64",
    "collapsed": false,
    "execution": {
     "iopub.execute_input": "2023-02-05T10:42:17.692048Z",
     "iopub.status.busy": "2023-02-05T10:42:17.691618Z",
     "iopub.status.idle": "2023-02-05T10:42:18.789419Z",
     "shell.execute_reply": "2023-02-05T10:42:18.788247Z"
    },
    "jupyter": {
     "outputs_hidden": false
    },
    "papermill": {
     "duration": 1.11224,
     "end_time": "2023-02-05T10:42:18.792675",
     "exception": false,
     "start_time": "2023-02-05T10:42:17.680435",
     "status": "completed"
    },
    "tags": []
   },
   "outputs": [],
   "source": [
    "from sklearn.preprocessing import OneHotEncoder"
   ]
  },
  {
   "cell_type": "code",
   "execution_count": 15,
   "id": "78c0a66e",
   "metadata": {
    "_cell_guid": "5bb3be8f-ac7e-4bd5-be0d-df8e97b510e1",
    "_uuid": "bd814c1b-24fe-4964-8541-aba113fed043",
    "collapsed": false,
    "execution": {
     "iopub.execute_input": "2023-02-05T10:42:18.826387Z",
     "iopub.status.busy": "2023-02-05T10:42:18.825322Z",
     "iopub.status.idle": "2023-02-05T10:42:18.874879Z",
     "shell.execute_reply": "2023-02-05T10:42:18.873068Z"
    },
    "jupyter": {
     "outputs_hidden": false
    },
    "papermill": {
     "duration": 0.070784,
     "end_time": "2023-02-05T10:42:18.879377",
     "exception": false,
     "start_time": "2023-02-05T10:42:18.808593",
     "status": "completed"
    },
    "tags": []
   },
   "outputs": [
    {
     "data": {
      "text/html": [
       "<div>\n",
       "<style scoped>\n",
       "    .dataframe tbody tr th:only-of-type {\n",
       "        vertical-align: middle;\n",
       "    }\n",
       "\n",
       "    .dataframe tbody tr th {\n",
       "        vertical-align: top;\n",
       "    }\n",
       "\n",
       "    .dataframe thead th {\n",
       "        text-align: right;\n",
       "    }\n",
       "</style>\n",
       "<table border=\"1\" class=\"dataframe\">\n",
       "  <thead>\n",
       "    <tr style=\"text-align: right;\">\n",
       "      <th></th>\n",
       "      <th>PassengerId</th>\n",
       "      <th>Survived</th>\n",
       "      <th>Pclass</th>\n",
       "      <th>Age</th>\n",
       "      <th>SibSp</th>\n",
       "      <th>Parch</th>\n",
       "      <th>Fare</th>\n",
       "      <th>Sex_female</th>\n",
       "      <th>Sex_male</th>\n",
       "      <th>Embarked_C</th>\n",
       "      <th>Embarked_Q</th>\n",
       "      <th>Embarked_S</th>\n",
       "    </tr>\n",
       "  </thead>\n",
       "  <tbody>\n",
       "    <tr>\n",
       "      <th>0</th>\n",
       "      <td>1</td>\n",
       "      <td>0</td>\n",
       "      <td>3</td>\n",
       "      <td>22.0</td>\n",
       "      <td>1</td>\n",
       "      <td>0</td>\n",
       "      <td>7.2500</td>\n",
       "      <td>0.0</td>\n",
       "      <td>1.0</td>\n",
       "      <td>0.0</td>\n",
       "      <td>0.0</td>\n",
       "      <td>1.0</td>\n",
       "    </tr>\n",
       "    <tr>\n",
       "      <th>1</th>\n",
       "      <td>2</td>\n",
       "      <td>1</td>\n",
       "      <td>1</td>\n",
       "      <td>38.0</td>\n",
       "      <td>1</td>\n",
       "      <td>0</td>\n",
       "      <td>71.2833</td>\n",
       "      <td>1.0</td>\n",
       "      <td>0.0</td>\n",
       "      <td>1.0</td>\n",
       "      <td>0.0</td>\n",
       "      <td>0.0</td>\n",
       "    </tr>\n",
       "    <tr>\n",
       "      <th>2</th>\n",
       "      <td>3</td>\n",
       "      <td>1</td>\n",
       "      <td>3</td>\n",
       "      <td>26.0</td>\n",
       "      <td>0</td>\n",
       "      <td>0</td>\n",
       "      <td>7.9250</td>\n",
       "      <td>1.0</td>\n",
       "      <td>0.0</td>\n",
       "      <td>0.0</td>\n",
       "      <td>0.0</td>\n",
       "      <td>1.0</td>\n",
       "    </tr>\n",
       "    <tr>\n",
       "      <th>3</th>\n",
       "      <td>4</td>\n",
       "      <td>1</td>\n",
       "      <td>1</td>\n",
       "      <td>35.0</td>\n",
       "      <td>1</td>\n",
       "      <td>0</td>\n",
       "      <td>53.1000</td>\n",
       "      <td>1.0</td>\n",
       "      <td>0.0</td>\n",
       "      <td>0.0</td>\n",
       "      <td>0.0</td>\n",
       "      <td>1.0</td>\n",
       "    </tr>\n",
       "    <tr>\n",
       "      <th>4</th>\n",
       "      <td>5</td>\n",
       "      <td>0</td>\n",
       "      <td>3</td>\n",
       "      <td>35.0</td>\n",
       "      <td>0</td>\n",
       "      <td>0</td>\n",
       "      <td>8.0500</td>\n",
       "      <td>0.0</td>\n",
       "      <td>1.0</td>\n",
       "      <td>0.0</td>\n",
       "      <td>0.0</td>\n",
       "      <td>1.0</td>\n",
       "    </tr>\n",
       "    <tr>\n",
       "      <th>...</th>\n",
       "      <td>...</td>\n",
       "      <td>...</td>\n",
       "      <td>...</td>\n",
       "      <td>...</td>\n",
       "      <td>...</td>\n",
       "      <td>...</td>\n",
       "      <td>...</td>\n",
       "      <td>...</td>\n",
       "      <td>...</td>\n",
       "      <td>...</td>\n",
       "      <td>...</td>\n",
       "      <td>...</td>\n",
       "    </tr>\n",
       "    <tr>\n",
       "      <th>1304</th>\n",
       "      <td>1305</td>\n",
       "      <td>0</td>\n",
       "      <td>3</td>\n",
       "      <td>28.0</td>\n",
       "      <td>0</td>\n",
       "      <td>0</td>\n",
       "      <td>8.0500</td>\n",
       "      <td>0.0</td>\n",
       "      <td>1.0</td>\n",
       "      <td>0.0</td>\n",
       "      <td>0.0</td>\n",
       "      <td>1.0</td>\n",
       "    </tr>\n",
       "    <tr>\n",
       "      <th>1305</th>\n",
       "      <td>1306</td>\n",
       "      <td>1</td>\n",
       "      <td>1</td>\n",
       "      <td>39.0</td>\n",
       "      <td>0</td>\n",
       "      <td>0</td>\n",
       "      <td>108.9000</td>\n",
       "      <td>1.0</td>\n",
       "      <td>0.0</td>\n",
       "      <td>1.0</td>\n",
       "      <td>0.0</td>\n",
       "      <td>0.0</td>\n",
       "    </tr>\n",
       "    <tr>\n",
       "      <th>1306</th>\n",
       "      <td>1307</td>\n",
       "      <td>0</td>\n",
       "      <td>3</td>\n",
       "      <td>38.5</td>\n",
       "      <td>0</td>\n",
       "      <td>0</td>\n",
       "      <td>7.2500</td>\n",
       "      <td>0.0</td>\n",
       "      <td>1.0</td>\n",
       "      <td>0.0</td>\n",
       "      <td>0.0</td>\n",
       "      <td>1.0</td>\n",
       "    </tr>\n",
       "    <tr>\n",
       "      <th>1307</th>\n",
       "      <td>1308</td>\n",
       "      <td>0</td>\n",
       "      <td>3</td>\n",
       "      <td>28.0</td>\n",
       "      <td>0</td>\n",
       "      <td>0</td>\n",
       "      <td>8.0500</td>\n",
       "      <td>0.0</td>\n",
       "      <td>1.0</td>\n",
       "      <td>0.0</td>\n",
       "      <td>0.0</td>\n",
       "      <td>1.0</td>\n",
       "    </tr>\n",
       "    <tr>\n",
       "      <th>1308</th>\n",
       "      <td>1309</td>\n",
       "      <td>0</td>\n",
       "      <td>3</td>\n",
       "      <td>28.0</td>\n",
       "      <td>1</td>\n",
       "      <td>1</td>\n",
       "      <td>22.3583</td>\n",
       "      <td>0.0</td>\n",
       "      <td>1.0</td>\n",
       "      <td>1.0</td>\n",
       "      <td>0.0</td>\n",
       "      <td>0.0</td>\n",
       "    </tr>\n",
       "  </tbody>\n",
       "</table>\n",
       "<p>1309 rows × 12 columns</p>\n",
       "</div>"
      ],
      "text/plain": [
       "      PassengerId  Survived  Pclass   Age  SibSp  Parch      Fare  Sex_female  \\\n",
       "0               1         0       3  22.0      1      0    7.2500         0.0   \n",
       "1               2         1       1  38.0      1      0   71.2833         1.0   \n",
       "2               3         1       3  26.0      0      0    7.9250         1.0   \n",
       "3               4         1       1  35.0      1      0   53.1000         1.0   \n",
       "4               5         0       3  35.0      0      0    8.0500         0.0   \n",
       "...           ...       ...     ...   ...    ...    ...       ...         ...   \n",
       "1304         1305         0       3  28.0      0      0    8.0500         0.0   \n",
       "1305         1306         1       1  39.0      0      0  108.9000         1.0   \n",
       "1306         1307         0       3  38.5      0      0    7.2500         0.0   \n",
       "1307         1308         0       3  28.0      0      0    8.0500         0.0   \n",
       "1308         1309         0       3  28.0      1      1   22.3583         0.0   \n",
       "\n",
       "      Sex_male  Embarked_C  Embarked_Q  Embarked_S  \n",
       "0          1.0         0.0         0.0         1.0  \n",
       "1          0.0         1.0         0.0         0.0  \n",
       "2          0.0         0.0         0.0         1.0  \n",
       "3          0.0         0.0         0.0         1.0  \n",
       "4          1.0         0.0         0.0         1.0  \n",
       "...        ...         ...         ...         ...  \n",
       "1304       1.0         0.0         0.0         1.0  \n",
       "1305       0.0         1.0         0.0         0.0  \n",
       "1306       1.0         0.0         0.0         1.0  \n",
       "1307       1.0         0.0         0.0         1.0  \n",
       "1308       1.0         1.0         0.0         0.0  \n",
       "\n",
       "[1309 rows x 12 columns]"
      ]
     },
     "execution_count": 15,
     "metadata": {},
     "output_type": "execute_result"
    }
   ],
   "source": [
    "enc = OneHotEncoder(sparse=False)\n",
    "columns_to_one_hot = ['Sex','Embarked']\n",
    "encoded_array = enc.fit_transform(df.loc[:,columns_to_one_hot])\n",
    "df_encoded = pd.DataFrame(encoded_array,columns=enc.get_feature_names_out() )\n",
    "df_encoded = pd.concat([df,df_encoded],axis=1)\n",
    "df_encoded.drop(labels= columns_to_one_hot,axis=1,inplace=True)\n",
    "df_encoded"
   ]
  },
  {
   "cell_type": "code",
   "execution_count": 16,
   "id": "136b5bf9",
   "metadata": {
    "execution": {
     "iopub.execute_input": "2023-02-05T10:42:18.912505Z",
     "iopub.status.busy": "2023-02-05T10:42:18.911965Z",
     "iopub.status.idle": "2023-02-05T10:42:18.918505Z",
     "shell.execute_reply": "2023-02-05T10:42:18.917295Z"
    },
    "papermill": {
     "duration": 0.026833,
     "end_time": "2023-02-05T10:42:18.920842",
     "exception": false,
     "start_time": "2023-02-05T10:42:18.894009",
     "status": "completed"
    },
    "tags": []
   },
   "outputs": [],
   "source": [
    "df_encoded = df_encoded.set_index('PassengerId')"
   ]
  },
  {
   "cell_type": "code",
   "execution_count": 17,
   "id": "7682f29c",
   "metadata": {
    "execution": {
     "iopub.execute_input": "2023-02-05T10:42:18.944387Z",
     "iopub.status.busy": "2023-02-05T10:42:18.943013Z",
     "iopub.status.idle": "2023-02-05T10:42:18.950619Z",
     "shell.execute_reply": "2023-02-05T10:42:18.949816Z"
    },
    "papermill": {
     "duration": 0.021556,
     "end_time": "2023-02-05T10:42:18.952859",
     "exception": false,
     "start_time": "2023-02-05T10:42:18.931303",
     "status": "completed"
    },
    "tags": []
   },
   "outputs": [],
   "source": [
    "X = df_encoded.drop(columns=['Survived']).copy()\n",
    "y = df_encoded['Survived'].copy()"
   ]
  },
  {
   "cell_type": "code",
   "execution_count": 18,
   "id": "4e97a023",
   "metadata": {
    "_cell_guid": "3b885371-7ff1-48f9-bb6d-d55db497cb3e",
    "_uuid": "794fa193-7858-4cfd-b3b2-bd9b752e9a4b",
    "collapsed": false,
    "execution": {
     "iopub.execute_input": "2023-02-05T10:42:18.976271Z",
     "iopub.status.busy": "2023-02-05T10:42:18.975086Z",
     "iopub.status.idle": "2023-02-05T10:42:18.981088Z",
     "shell.execute_reply": "2023-02-05T10:42:18.980042Z"
    },
    "jupyter": {
     "outputs_hidden": false
    },
    "papermill": {
     "duration": 0.020077,
     "end_time": "2023-02-05T10:42:18.983237",
     "exception": false,
     "start_time": "2023-02-05T10:42:18.963160",
     "status": "completed"
    },
    "tags": []
   },
   "outputs": [],
   "source": [
    "from sklearn.preprocessing import MinMaxScaler\n",
    "scaler = MinMaxScaler()"
   ]
  },
  {
   "cell_type": "code",
   "execution_count": 19,
   "id": "db1a92e3",
   "metadata": {
    "execution": {
     "iopub.execute_input": "2023-02-05T10:42:19.006416Z",
     "iopub.status.busy": "2023-02-05T10:42:19.005467Z",
     "iopub.status.idle": "2023-02-05T10:42:19.016497Z",
     "shell.execute_reply": "2023-02-05T10:42:19.015422Z"
    },
    "papermill": {
     "duration": 0.025556,
     "end_time": "2023-02-05T10:42:19.019097",
     "exception": false,
     "start_time": "2023-02-05T10:42:18.993541",
     "status": "completed"
    },
    "tags": []
   },
   "outputs": [],
   "source": [
    "X_mm = pd.DataFrame(scaler.fit_transform(X), columns = X.columns)"
   ]
  },
  {
   "cell_type": "code",
   "execution_count": 20,
   "id": "043e2035",
   "metadata": {
    "execution": {
     "iopub.execute_input": "2023-02-05T10:42:19.042592Z",
     "iopub.status.busy": "2023-02-05T10:42:19.041707Z",
     "iopub.status.idle": "2023-02-05T10:42:19.064881Z",
     "shell.execute_reply": "2023-02-05T10:42:19.063942Z"
    },
    "papermill": {
     "duration": 0.037314,
     "end_time": "2023-02-05T10:42:19.067024",
     "exception": false,
     "start_time": "2023-02-05T10:42:19.029710",
     "status": "completed"
    },
    "tags": []
   },
   "outputs": [
    {
     "data": {
      "text/html": [
       "<div>\n",
       "<style scoped>\n",
       "    .dataframe tbody tr th:only-of-type {\n",
       "        vertical-align: middle;\n",
       "    }\n",
       "\n",
       "    .dataframe tbody tr th {\n",
       "        vertical-align: top;\n",
       "    }\n",
       "\n",
       "    .dataframe thead th {\n",
       "        text-align: right;\n",
       "    }\n",
       "</style>\n",
       "<table border=\"1\" class=\"dataframe\">\n",
       "  <thead>\n",
       "    <tr style=\"text-align: right;\">\n",
       "      <th></th>\n",
       "      <th>Pclass</th>\n",
       "      <th>Age</th>\n",
       "      <th>SibSp</th>\n",
       "      <th>Parch</th>\n",
       "      <th>Fare</th>\n",
       "      <th>Sex_female</th>\n",
       "      <th>Sex_male</th>\n",
       "      <th>Embarked_C</th>\n",
       "      <th>Embarked_Q</th>\n",
       "      <th>Embarked_S</th>\n",
       "    </tr>\n",
       "  </thead>\n",
       "  <tbody>\n",
       "    <tr>\n",
       "      <th>0</th>\n",
       "      <td>1.0</td>\n",
       "      <td>0.273456</td>\n",
       "      <td>0.125</td>\n",
       "      <td>0.0</td>\n",
       "      <td>0.014151</td>\n",
       "      <td>0.0</td>\n",
       "      <td>1.0</td>\n",
       "      <td>0.0</td>\n",
       "      <td>0.0</td>\n",
       "      <td>1.0</td>\n",
       "    </tr>\n",
       "    <tr>\n",
       "      <th>1</th>\n",
       "      <td>0.0</td>\n",
       "      <td>0.473882</td>\n",
       "      <td>0.125</td>\n",
       "      <td>0.0</td>\n",
       "      <td>0.139136</td>\n",
       "      <td>1.0</td>\n",
       "      <td>0.0</td>\n",
       "      <td>1.0</td>\n",
       "      <td>0.0</td>\n",
       "      <td>0.0</td>\n",
       "    </tr>\n",
       "    <tr>\n",
       "      <th>2</th>\n",
       "      <td>1.0</td>\n",
       "      <td>0.323563</td>\n",
       "      <td>0.000</td>\n",
       "      <td>0.0</td>\n",
       "      <td>0.015469</td>\n",
       "      <td>1.0</td>\n",
       "      <td>0.0</td>\n",
       "      <td>0.0</td>\n",
       "      <td>0.0</td>\n",
       "      <td>1.0</td>\n",
       "    </tr>\n",
       "    <tr>\n",
       "      <th>3</th>\n",
       "      <td>0.0</td>\n",
       "      <td>0.436302</td>\n",
       "      <td>0.125</td>\n",
       "      <td>0.0</td>\n",
       "      <td>0.103644</td>\n",
       "      <td>1.0</td>\n",
       "      <td>0.0</td>\n",
       "      <td>0.0</td>\n",
       "      <td>0.0</td>\n",
       "      <td>1.0</td>\n",
       "    </tr>\n",
       "    <tr>\n",
       "      <th>4</th>\n",
       "      <td>1.0</td>\n",
       "      <td>0.436302</td>\n",
       "      <td>0.000</td>\n",
       "      <td>0.0</td>\n",
       "      <td>0.015713</td>\n",
       "      <td>0.0</td>\n",
       "      <td>1.0</td>\n",
       "      <td>0.0</td>\n",
       "      <td>0.0</td>\n",
       "      <td>1.0</td>\n",
       "    </tr>\n",
       "  </tbody>\n",
       "</table>\n",
       "</div>"
      ],
      "text/plain": [
       "   Pclass       Age  SibSp  Parch      Fare  Sex_female  Sex_male  Embarked_C  \\\n",
       "0     1.0  0.273456  0.125    0.0  0.014151         0.0       1.0         0.0   \n",
       "1     0.0  0.473882  0.125    0.0  0.139136         1.0       0.0         1.0   \n",
       "2     1.0  0.323563  0.000    0.0  0.015469         1.0       0.0         0.0   \n",
       "3     0.0  0.436302  0.125    0.0  0.103644         1.0       0.0         0.0   \n",
       "4     1.0  0.436302  0.000    0.0  0.015713         0.0       1.0         0.0   \n",
       "\n",
       "   Embarked_Q  Embarked_S  \n",
       "0         0.0         1.0  \n",
       "1         0.0         0.0  \n",
       "2         0.0         1.0  \n",
       "3         0.0         1.0  \n",
       "4         0.0         1.0  "
      ]
     },
     "execution_count": 20,
     "metadata": {},
     "output_type": "execute_result"
    }
   ],
   "source": [
    "X_mm.head()"
   ]
  },
  {
   "cell_type": "markdown",
   "id": "d09454f8",
   "metadata": {
    "papermill": {
     "duration": 0.009846,
     "end_time": "2023-02-05T10:42:19.087199",
     "exception": false,
     "start_time": "2023-02-05T10:42:19.077353",
     "status": "completed"
    },
    "tags": []
   },
   "source": [
    "# Step 3: **Logistic Regression**"
   ]
  },
  {
   "cell_type": "code",
   "execution_count": 21,
   "id": "1263da52",
   "metadata": {
    "execution": {
     "iopub.execute_input": "2023-02-05T10:42:19.110143Z",
     "iopub.status.busy": "2023-02-05T10:42:19.109218Z",
     "iopub.status.idle": "2023-02-05T10:42:19.243767Z",
     "shell.execute_reply": "2023-02-05T10:42:19.242658Z"
    },
    "papermill": {
     "duration": 0.149659,
     "end_time": "2023-02-05T10:42:19.247093",
     "exception": false,
     "start_time": "2023-02-05T10:42:19.097434",
     "status": "completed"
    },
    "tags": []
   },
   "outputs": [],
   "source": [
    "from sklearn.linear_model import LogisticRegression\n",
    "LR = LogisticRegression(solver = 'liblinear', penalty = 'l1', C=2)"
   ]
  },
  {
   "cell_type": "code",
   "execution_count": 22,
   "id": "b0de9eda",
   "metadata": {
    "execution": {
     "iopub.execute_input": "2023-02-05T10:42:19.269835Z",
     "iopub.status.busy": "2023-02-05T10:42:19.269429Z",
     "iopub.status.idle": "2023-02-05T10:42:19.276114Z",
     "shell.execute_reply": "2023-02-05T10:42:19.275234Z"
    },
    "papermill": {
     "duration": 0.020595,
     "end_time": "2023-02-05T10:42:19.278370",
     "exception": false,
     "start_time": "2023-02-05T10:42:19.257775",
     "status": "completed"
    },
    "tags": []
   },
   "outputs": [],
   "source": [
    "from sklearn.model_selection import train_test_split\n",
    "X_train, X_test, y_train, y_test = train_test_split(X_mm, y, test_size=0.33, random_state=42)"
   ]
  },
  {
   "cell_type": "code",
   "execution_count": 23,
   "id": "973622fb",
   "metadata": {
    "execution": {
     "iopub.execute_input": "2023-02-05T10:42:19.301775Z",
     "iopub.status.busy": "2023-02-05T10:42:19.301091Z",
     "iopub.status.idle": "2023-02-05T10:42:19.306839Z",
     "shell.execute_reply": "2023-02-05T10:42:19.305926Z"
    },
    "papermill": {
     "duration": 0.020105,
     "end_time": "2023-02-05T10:42:19.309371",
     "exception": false,
     "start_time": "2023-02-05T10:42:19.289266",
     "status": "completed"
    },
    "tags": []
   },
   "outputs": [],
   "source": [
    "from sklearn.model_selection import GridSearchCV\n",
    "import warnings\n",
    "warnings.filterwarnings('ignore')\n",
    "\n",
    "parameters = {\n",
    "    'penalty' : ['l1','l2'], \n",
    "    'C'       : range(1,15),\n",
    "    'solver'  : ['liblinear', 'newton-cg', 'lbfgs', 'sag', 'saga'],\n",
    "}"
   ]
  },
  {
   "cell_type": "code",
   "execution_count": 24,
   "id": "608f2edc",
   "metadata": {
    "execution": {
     "iopub.execute_input": "2023-02-05T10:42:19.332296Z",
     "iopub.status.busy": "2023-02-05T10:42:19.331882Z",
     "iopub.status.idle": "2023-02-05T10:42:19.336174Z",
     "shell.execute_reply": "2023-02-05T10:42:19.335389Z"
    },
    "papermill": {
     "duration": 0.01806,
     "end_time": "2023-02-05T10:42:19.338050",
     "exception": false,
     "start_time": "2023-02-05T10:42:19.319990",
     "status": "completed"
    },
    "tags": []
   },
   "outputs": [],
   "source": [
    "clf = GridSearchCV(LR,               \n",
    "                   param_grid = parameters,  \n",
    "                   scoring='roc_auc',  \n",
    "                   cv=10)"
   ]
  },
  {
   "cell_type": "code",
   "execution_count": 25,
   "id": "cd73b49c",
   "metadata": {
    "execution": {
     "iopub.execute_input": "2023-02-05T10:42:19.360810Z",
     "iopub.status.busy": "2023-02-05T10:42:19.359800Z",
     "iopub.status.idle": "2023-02-05T10:42:36.225943Z",
     "shell.execute_reply": "2023-02-05T10:42:36.225051Z"
    },
    "papermill": {
     "duration": 16.880153,
     "end_time": "2023-02-05T10:42:36.228511",
     "exception": false,
     "start_time": "2023-02-05T10:42:19.348358",
     "status": "completed"
    },
    "tags": []
   },
   "outputs": [
    {
     "data": {
      "text/plain": [
       "GridSearchCV(cv=10,\n",
       "             estimator=LogisticRegression(C=2, penalty='l1',\n",
       "                                          solver='liblinear'),\n",
       "             param_grid={'C': range(1, 15), 'penalty': ['l1', 'l2'],\n",
       "                         'solver': ['liblinear', 'newton-cg', 'lbfgs', 'sag',\n",
       "                                    'saga']},\n",
       "             scoring='roc_auc')"
      ]
     },
     "execution_count": 25,
     "metadata": {},
     "output_type": "execute_result"
    }
   ],
   "source": [
    "clf.fit(X_train,y_train)"
   ]
  },
  {
   "cell_type": "code",
   "execution_count": 26,
   "id": "d036dfa0",
   "metadata": {
    "execution": {
     "iopub.execute_input": "2023-02-05T10:42:36.251869Z",
     "iopub.status.busy": "2023-02-05T10:42:36.251257Z",
     "iopub.status.idle": "2023-02-05T10:42:36.255964Z",
     "shell.execute_reply": "2023-02-05T10:42:36.255179Z"
    },
    "papermill": {
     "duration": 0.018615,
     "end_time": "2023-02-05T10:42:36.257918",
     "exception": false,
     "start_time": "2023-02-05T10:42:36.239303",
     "status": "completed"
    },
    "tags": []
   },
   "outputs": [
    {
     "name": "stdout",
     "output_type": "stream",
     "text": [
      "Tuned Hyperparameters : {'C': 2, 'penalty': 'l1', 'solver': 'liblinear'}\n",
      "Accuracy : 0.887790021426385\n"
     ]
    }
   ],
   "source": [
    "print(\"Tuned Hyperparameters :\", clf.best_params_)\n",
    "print(\"Accuracy :\",clf.best_score_)"
   ]
  },
  {
   "cell_type": "code",
   "execution_count": 27,
   "id": "e1d6d2cc",
   "metadata": {
    "execution": {
     "iopub.execute_input": "2023-02-05T10:42:36.280348Z",
     "iopub.status.busy": "2023-02-05T10:42:36.279954Z",
     "iopub.status.idle": "2023-02-05T10:42:36.298587Z",
     "shell.execute_reply": "2023-02-05T10:42:36.297432Z"
    },
    "papermill": {
     "duration": 0.032481,
     "end_time": "2023-02-05T10:42:36.300821",
     "exception": false,
     "start_time": "2023-02-05T10:42:36.268340",
     "status": "completed"
    },
    "tags": []
   },
   "outputs": [
    {
     "data": {
      "text/plain": [
       "LogisticRegression(C=2, penalty='l1', solver='liblinear')"
      ]
     },
     "execution_count": 27,
     "metadata": {},
     "output_type": "execute_result"
    }
   ],
   "source": [
    "LR.fit(X_train, y_train)"
   ]
  },
  {
   "cell_type": "code",
   "execution_count": 28,
   "id": "ebe38a0e",
   "metadata": {
    "execution": {
     "iopub.execute_input": "2023-02-05T10:42:36.323730Z",
     "iopub.status.busy": "2023-02-05T10:42:36.323284Z",
     "iopub.status.idle": "2023-02-05T10:42:36.330149Z",
     "shell.execute_reply": "2023-02-05T10:42:36.328986Z"
    },
    "papermill": {
     "duration": 0.020756,
     "end_time": "2023-02-05T10:42:36.332174",
     "exception": false,
     "start_time": "2023-02-05T10:42:36.311418",
     "status": "completed"
    },
    "tags": []
   },
   "outputs": [],
   "source": [
    "predicted = LR.predict(X_test)"
   ]
  },
  {
   "cell_type": "code",
   "execution_count": 29,
   "id": "11abb8c6",
   "metadata": {
    "execution": {
     "iopub.execute_input": "2023-02-05T10:42:36.355088Z",
     "iopub.status.busy": "2023-02-05T10:42:36.354332Z",
     "iopub.status.idle": "2023-02-05T10:42:36.358600Z",
     "shell.execute_reply": "2023-02-05T10:42:36.357909Z"
    },
    "papermill": {
     "duration": 0.017998,
     "end_time": "2023-02-05T10:42:36.360561",
     "exception": false,
     "start_time": "2023-02-05T10:42:36.342563",
     "status": "completed"
    },
    "tags": []
   },
   "outputs": [],
   "source": [
    "from sklearn.metrics import accuracy_score\n",
    "from sklearn.metrics import roc_auc_score\n",
    "from sklearn.metrics import f1_score"
   ]
  },
  {
   "cell_type": "code",
   "execution_count": 30,
   "id": "a143db26",
   "metadata": {
    "execution": {
     "iopub.execute_input": "2023-02-05T10:42:36.383913Z",
     "iopub.status.busy": "2023-02-05T10:42:36.383252Z",
     "iopub.status.idle": "2023-02-05T10:42:36.393417Z",
     "shell.execute_reply": "2023-02-05T10:42:36.392238Z"
    },
    "papermill": {
     "duration": 0.024428,
     "end_time": "2023-02-05T10:42:36.395690",
     "exception": false,
     "start_time": "2023-02-05T10:42:36.371262",
     "status": "completed"
    },
    "tags": []
   },
   "outputs": [
    {
     "data": {
      "text/plain": [
       "{'accuracy': 0.8564814814814815,\n",
       " 'f1': 0.8098159509202454,\n",
       " 'roc': 0.8472871576162565}"
      ]
     },
     "execution_count": 30,
     "metadata": {},
     "output_type": "execute_result"
    }
   ],
   "source": [
    "scores = {'accuracy': accuracy_score(y_test, predicted, normalize=True),\n",
    "         'f1': f1_score(y_test, predicted),\n",
    "         'roc': roc_auc_score(y_test, predicted)}\n",
    "scores"
   ]
  },
  {
   "cell_type": "code",
   "execution_count": null,
   "id": "223392d8",
   "metadata": {
    "papermill": {
     "duration": 0.010233,
     "end_time": "2023-02-05T10:42:36.416385",
     "exception": false,
     "start_time": "2023-02-05T10:42:36.406152",
     "status": "completed"
    },
    "tags": []
   },
   "outputs": [],
   "source": []
  }
 ],
 "metadata": {
  "kernelspec": {
   "display_name": "Python 3",
   "language": "python",
   "name": "python3"
  },
  "language_info": {
   "codemirror_mode": {
    "name": "ipython",
    "version": 3
   },
   "file_extension": ".py",
   "mimetype": "text/x-python",
   "name": "python",
   "nbconvert_exporter": "python",
   "pygments_lexer": "ipython3",
   "version": "3.7.12"
  },
  "papermill": {
   "default_parameters": {},
   "duration": 28.596839,
   "end_time": "2023-02-05T10:42:37.148089",
   "environment_variables": {},
   "exception": null,
   "input_path": "__notebook__.ipynb",
   "output_path": "__notebook__.ipynb",
   "parameters": {},
   "start_time": "2023-02-05T10:42:08.551250",
   "version": "2.3.4"
  }
 },
 "nbformat": 4,
 "nbformat_minor": 5
}
