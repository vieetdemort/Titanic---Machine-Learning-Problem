{
 "cells": [
  {
   "cell_type": "code",
   "execution_count": 1,
   "id": "67575c82",
   "metadata": {
    "_cell_guid": "6adef0f7-c004-4084-a497-a096c87660ff",
    "_uuid": "abee3a4b-d46e-47f6-a4dc-77aea405fecf",
    "collapsed": false,
    "execution": {
     "iopub.execute_input": "2023-02-05T11:29:03.985975Z",
     "iopub.status.busy": "2023-02-05T11:29:03.985501Z",
     "iopub.status.idle": "2023-02-05T11:29:03.998447Z",
     "shell.execute_reply": "2023-02-05T11:29:03.997651Z"
    },
    "jupyter": {
     "outputs_hidden": false
    },
    "papermill": {
     "duration": 0.028879,
     "end_time": "2023-02-05T11:29:04.001783",
     "exception": false,
     "start_time": "2023-02-05T11:29:03.972904",
     "status": "completed"
    },
    "tags": []
   },
   "outputs": [
    {
     "name": "stdout",
     "output_type": "stream",
     "text": [
      "/kaggle/input/titanic/train.csv\n",
      "/kaggle/input/titanic/test.csv\n",
      "/kaggle/input/titanic/gender_submission.csv\n"
     ]
    }
   ],
   "source": [
    "# This Python 3 environment comes with many helpful analytics libraries installed\n",
    "# It is defined by the kaggle/python Docker image: https://github.com/kaggle/docker-python\n",
    "# For example, here's several helpful packages to load\n",
    "\n",
    "import numpy as np # linear algebra\n",
    "import pandas as pd # data processing, CSV file I/O (e.g. pd.read_csv)\n",
    "\n",
    "# Input data files are available in the read-only \"../input/\" directory\n",
    "# For example, running this (by clicking run or pressing Shift+Enter) will list all files under the input directory\n",
    "\n",
    "import os\n",
    "for dirname, _, filenames in os.walk('/kaggle/input'):\n",
    "    for filename in filenames:\n",
    "        print(os.path.join(dirname, filename))\n",
    "\n",
    "# You can write up to 20GB to the current directory (/kaggle/working/) that gets preserved as output when you create a version using \"Save & Run All\" \n",
    "# You can also write temporary files to /kaggle/temp/, but they won't be saved outside of the current session"
   ]
  },
  {
   "cell_type": "code",
   "execution_count": 2,
   "id": "1497f747",
   "metadata": {
    "_cell_guid": "aa26a0b3-bb8f-4211-84bb-49873cb4635f",
    "_uuid": "69a8a62a-ab6b-4709-bbba-5dd4de582215",
    "collapsed": false,
    "execution": {
     "iopub.execute_input": "2023-02-05T11:29:04.024471Z",
     "iopub.status.busy": "2023-02-05T11:29:04.023645Z",
     "iopub.status.idle": "2023-02-05T11:29:04.055798Z",
     "shell.execute_reply": "2023-02-05T11:29:04.054867Z"
    },
    "jupyter": {
     "outputs_hidden": false
    },
    "papermill": {
     "duration": 0.046072,
     "end_time": "2023-02-05T11:29:04.058694",
     "exception": false,
     "start_time": "2023-02-05T11:29:04.012622",
     "status": "completed"
    },
    "tags": []
   },
   "outputs": [],
   "source": [
    "train = pd.read_csv('/kaggle/input/titanic/train.csv')\n",
    "test = pd.read_csv('/kaggle/input/titanic/test.csv')\n",
    "gs = pd.read_csv('/kaggle/input/titanic/gender_submission.csv')"
   ]
  },
  {
   "cell_type": "markdown",
   "id": "2fd0b2ea",
   "metadata": {
    "_cell_guid": "ed0fe5dc-e7fa-48e5-9ff4-fc0a09c3d473",
    "_uuid": "78a39236-8e0d-43d2-aaf6-32e5a4c8f535",
    "papermill": {
     "duration": 0.01182,
     "end_time": "2023-02-05T11:29:04.080363",
     "exception": false,
     "start_time": "2023-02-05T11:29:04.068543",
     "status": "completed"
    },
    "tags": []
   },
   "source": [
    "# Step 1: **Analyzing and Cleaning Dataset**"
   ]
  },
  {
   "cell_type": "code",
   "execution_count": 3,
   "id": "84fc011e",
   "metadata": {
    "execution": {
     "iopub.execute_input": "2023-02-05T11:29:04.102411Z",
     "iopub.status.busy": "2023-02-05T11:29:04.101628Z",
     "iopub.status.idle": "2023-02-05T11:29:04.130113Z",
     "shell.execute_reply": "2023-02-05T11:29:04.128787Z"
    },
    "papermill": {
     "duration": 0.042993,
     "end_time": "2023-02-05T11:29:04.133382",
     "exception": false,
     "start_time": "2023-02-05T11:29:04.090389",
     "status": "completed"
    },
    "tags": []
   },
   "outputs": [
    {
     "name": "stdout",
     "output_type": "stream",
     "text": [
      "<class 'pandas.core.frame.DataFrame'>\n",
      "RangeIndex: 891 entries, 0 to 890\n",
      "Data columns (total 12 columns):\n",
      " #   Column       Non-Null Count  Dtype  \n",
      "---  ------       --------------  -----  \n",
      " 0   PassengerId  891 non-null    int64  \n",
      " 1   Survived     891 non-null    int64  \n",
      " 2   Pclass       891 non-null    int64  \n",
      " 3   Name         891 non-null    object \n",
      " 4   Sex          891 non-null    object \n",
      " 5   Age          714 non-null    float64\n",
      " 6   SibSp        891 non-null    int64  \n",
      " 7   Parch        891 non-null    int64  \n",
      " 8   Ticket       891 non-null    object \n",
      " 9   Fare         891 non-null    float64\n",
      " 10  Cabin        204 non-null    object \n",
      " 11  Embarked     889 non-null    object \n",
      "dtypes: float64(2), int64(5), object(5)\n",
      "memory usage: 83.7+ KB\n"
     ]
    }
   ],
   "source": [
    "train.info()"
   ]
  },
  {
   "cell_type": "code",
   "execution_count": 4,
   "id": "2d7adbfd",
   "metadata": {
    "_cell_guid": "a23c9002-b544-419a-aa79-f23cad4e4a6f",
    "_uuid": "88fc6341-472f-42d2-bf95-78f729072cc6",
    "collapsed": false,
    "execution": {
     "iopub.execute_input": "2023-02-05T11:29:04.155414Z",
     "iopub.status.busy": "2023-02-05T11:29:04.155009Z",
     "iopub.status.idle": "2023-02-05T11:29:04.207788Z",
     "shell.execute_reply": "2023-02-05T11:29:04.206659Z"
    },
    "jupyter": {
     "outputs_hidden": false
    },
    "papermill": {
     "duration": 0.066902,
     "end_time": "2023-02-05T11:29:04.210337",
     "exception": false,
     "start_time": "2023-02-05T11:29:04.143435",
     "status": "completed"
    },
    "tags": []
   },
   "outputs": [
    {
     "data": {
      "text/html": [
       "<div>\n",
       "<style scoped>\n",
       "    .dataframe tbody tr th:only-of-type {\n",
       "        vertical-align: middle;\n",
       "    }\n",
       "\n",
       "    .dataframe tbody tr th {\n",
       "        vertical-align: top;\n",
       "    }\n",
       "\n",
       "    .dataframe thead th {\n",
       "        text-align: right;\n",
       "    }\n",
       "</style>\n",
       "<table border=\"1\" class=\"dataframe\">\n",
       "  <thead>\n",
       "    <tr style=\"text-align: right;\">\n",
       "      <th></th>\n",
       "      <th>count</th>\n",
       "      <th>unique</th>\n",
       "      <th>top</th>\n",
       "      <th>freq</th>\n",
       "      <th>mean</th>\n",
       "      <th>std</th>\n",
       "      <th>min</th>\n",
       "      <th>25%</th>\n",
       "      <th>50%</th>\n",
       "      <th>75%</th>\n",
       "      <th>max</th>\n",
       "    </tr>\n",
       "  </thead>\n",
       "  <tbody>\n",
       "    <tr>\n",
       "      <th>PassengerId</th>\n",
       "      <td>891.0</td>\n",
       "      <td>NaN</td>\n",
       "      <td>NaN</td>\n",
       "      <td>NaN</td>\n",
       "      <td>446.0</td>\n",
       "      <td>257.353842</td>\n",
       "      <td>1.0</td>\n",
       "      <td>223.5</td>\n",
       "      <td>446.0</td>\n",
       "      <td>668.5</td>\n",
       "      <td>891.0</td>\n",
       "    </tr>\n",
       "    <tr>\n",
       "      <th>Survived</th>\n",
       "      <td>891.0</td>\n",
       "      <td>NaN</td>\n",
       "      <td>NaN</td>\n",
       "      <td>NaN</td>\n",
       "      <td>0.383838</td>\n",
       "      <td>0.486592</td>\n",
       "      <td>0.0</td>\n",
       "      <td>0.0</td>\n",
       "      <td>0.0</td>\n",
       "      <td>1.0</td>\n",
       "      <td>1.0</td>\n",
       "    </tr>\n",
       "    <tr>\n",
       "      <th>Pclass</th>\n",
       "      <td>891.0</td>\n",
       "      <td>NaN</td>\n",
       "      <td>NaN</td>\n",
       "      <td>NaN</td>\n",
       "      <td>2.308642</td>\n",
       "      <td>0.836071</td>\n",
       "      <td>1.0</td>\n",
       "      <td>2.0</td>\n",
       "      <td>3.0</td>\n",
       "      <td>3.0</td>\n",
       "      <td>3.0</td>\n",
       "    </tr>\n",
       "    <tr>\n",
       "      <th>Name</th>\n",
       "      <td>891</td>\n",
       "      <td>891</td>\n",
       "      <td>Braund, Mr. Owen Harris</td>\n",
       "      <td>1</td>\n",
       "      <td>NaN</td>\n",
       "      <td>NaN</td>\n",
       "      <td>NaN</td>\n",
       "      <td>NaN</td>\n",
       "      <td>NaN</td>\n",
       "      <td>NaN</td>\n",
       "      <td>NaN</td>\n",
       "    </tr>\n",
       "    <tr>\n",
       "      <th>Sex</th>\n",
       "      <td>891</td>\n",
       "      <td>2</td>\n",
       "      <td>male</td>\n",
       "      <td>577</td>\n",
       "      <td>NaN</td>\n",
       "      <td>NaN</td>\n",
       "      <td>NaN</td>\n",
       "      <td>NaN</td>\n",
       "      <td>NaN</td>\n",
       "      <td>NaN</td>\n",
       "      <td>NaN</td>\n",
       "    </tr>\n",
       "    <tr>\n",
       "      <th>Age</th>\n",
       "      <td>714.0</td>\n",
       "      <td>NaN</td>\n",
       "      <td>NaN</td>\n",
       "      <td>NaN</td>\n",
       "      <td>29.699118</td>\n",
       "      <td>14.526497</td>\n",
       "      <td>0.42</td>\n",
       "      <td>20.125</td>\n",
       "      <td>28.0</td>\n",
       "      <td>38.0</td>\n",
       "      <td>80.0</td>\n",
       "    </tr>\n",
       "    <tr>\n",
       "      <th>SibSp</th>\n",
       "      <td>891.0</td>\n",
       "      <td>NaN</td>\n",
       "      <td>NaN</td>\n",
       "      <td>NaN</td>\n",
       "      <td>0.523008</td>\n",
       "      <td>1.102743</td>\n",
       "      <td>0.0</td>\n",
       "      <td>0.0</td>\n",
       "      <td>0.0</td>\n",
       "      <td>1.0</td>\n",
       "      <td>8.0</td>\n",
       "    </tr>\n",
       "    <tr>\n",
       "      <th>Parch</th>\n",
       "      <td>891.0</td>\n",
       "      <td>NaN</td>\n",
       "      <td>NaN</td>\n",
       "      <td>NaN</td>\n",
       "      <td>0.381594</td>\n",
       "      <td>0.806057</td>\n",
       "      <td>0.0</td>\n",
       "      <td>0.0</td>\n",
       "      <td>0.0</td>\n",
       "      <td>0.0</td>\n",
       "      <td>6.0</td>\n",
       "    </tr>\n",
       "    <tr>\n",
       "      <th>Ticket</th>\n",
       "      <td>891</td>\n",
       "      <td>681</td>\n",
       "      <td>347082</td>\n",
       "      <td>7</td>\n",
       "      <td>NaN</td>\n",
       "      <td>NaN</td>\n",
       "      <td>NaN</td>\n",
       "      <td>NaN</td>\n",
       "      <td>NaN</td>\n",
       "      <td>NaN</td>\n",
       "      <td>NaN</td>\n",
       "    </tr>\n",
       "    <tr>\n",
       "      <th>Fare</th>\n",
       "      <td>891.0</td>\n",
       "      <td>NaN</td>\n",
       "      <td>NaN</td>\n",
       "      <td>NaN</td>\n",
       "      <td>32.204208</td>\n",
       "      <td>49.693429</td>\n",
       "      <td>0.0</td>\n",
       "      <td>7.9104</td>\n",
       "      <td>14.4542</td>\n",
       "      <td>31.0</td>\n",
       "      <td>512.3292</td>\n",
       "    </tr>\n",
       "    <tr>\n",
       "      <th>Cabin</th>\n",
       "      <td>204</td>\n",
       "      <td>147</td>\n",
       "      <td>B96 B98</td>\n",
       "      <td>4</td>\n",
       "      <td>NaN</td>\n",
       "      <td>NaN</td>\n",
       "      <td>NaN</td>\n",
       "      <td>NaN</td>\n",
       "      <td>NaN</td>\n",
       "      <td>NaN</td>\n",
       "      <td>NaN</td>\n",
       "    </tr>\n",
       "    <tr>\n",
       "      <th>Embarked</th>\n",
       "      <td>889</td>\n",
       "      <td>3</td>\n",
       "      <td>S</td>\n",
       "      <td>644</td>\n",
       "      <td>NaN</td>\n",
       "      <td>NaN</td>\n",
       "      <td>NaN</td>\n",
       "      <td>NaN</td>\n",
       "      <td>NaN</td>\n",
       "      <td>NaN</td>\n",
       "      <td>NaN</td>\n",
       "    </tr>\n",
       "  </tbody>\n",
       "</table>\n",
       "</div>"
      ],
      "text/plain": [
       "             count unique                      top freq       mean  \\\n",
       "PassengerId  891.0    NaN                      NaN  NaN      446.0   \n",
       "Survived     891.0    NaN                      NaN  NaN   0.383838   \n",
       "Pclass       891.0    NaN                      NaN  NaN   2.308642   \n",
       "Name           891    891  Braund, Mr. Owen Harris    1        NaN   \n",
       "Sex            891      2                     male  577        NaN   \n",
       "Age          714.0    NaN                      NaN  NaN  29.699118   \n",
       "SibSp        891.0    NaN                      NaN  NaN   0.523008   \n",
       "Parch        891.0    NaN                      NaN  NaN   0.381594   \n",
       "Ticket         891    681                   347082    7        NaN   \n",
       "Fare         891.0    NaN                      NaN  NaN  32.204208   \n",
       "Cabin          204    147                  B96 B98    4        NaN   \n",
       "Embarked       889      3                        S  644        NaN   \n",
       "\n",
       "                    std   min     25%      50%    75%       max  \n",
       "PassengerId  257.353842   1.0   223.5    446.0  668.5     891.0  \n",
       "Survived       0.486592   0.0     0.0      0.0    1.0       1.0  \n",
       "Pclass         0.836071   1.0     2.0      3.0    3.0       3.0  \n",
       "Name                NaN   NaN     NaN      NaN    NaN       NaN  \n",
       "Sex                 NaN   NaN     NaN      NaN    NaN       NaN  \n",
       "Age           14.526497  0.42  20.125     28.0   38.0      80.0  \n",
       "SibSp          1.102743   0.0     0.0      0.0    1.0       8.0  \n",
       "Parch          0.806057   0.0     0.0      0.0    0.0       6.0  \n",
       "Ticket              NaN   NaN     NaN      NaN    NaN       NaN  \n",
       "Fare          49.693429   0.0  7.9104  14.4542   31.0  512.3292  \n",
       "Cabin               NaN   NaN     NaN      NaN    NaN       NaN  \n",
       "Embarked            NaN   NaN     NaN      NaN    NaN       NaN  "
      ]
     },
     "execution_count": 4,
     "metadata": {},
     "output_type": "execute_result"
    }
   ],
   "source": [
    "train.describe(include='all').T"
   ]
  },
  {
   "cell_type": "code",
   "execution_count": 5,
   "id": "d400c176",
   "metadata": {
    "_cell_guid": "af29d894-d8a0-49c9-ad67-0f81419c7d48",
    "_uuid": "9a35c59b-822e-45f2-9e52-22607f90f373",
    "collapsed": false,
    "execution": {
     "iopub.execute_input": "2023-02-05T11:29:04.232663Z",
     "iopub.status.busy": "2023-02-05T11:29:04.231902Z",
     "iopub.status.idle": "2023-02-05T11:29:04.241560Z",
     "shell.execute_reply": "2023-02-05T11:29:04.240512Z"
    },
    "jupyter": {
     "outputs_hidden": false
    },
    "papermill": {
     "duration": 0.023419,
     "end_time": "2023-02-05T11:29:04.243850",
     "exception": false,
     "start_time": "2023-02-05T11:29:04.220431",
     "status": "completed"
    },
    "tags": []
   },
   "outputs": [
    {
     "data": {
      "text/plain": [
       "0    0.616162\n",
       "1    0.383838\n",
       "Name: Survived, dtype: float64"
      ]
     },
     "execution_count": 5,
     "metadata": {},
     "output_type": "execute_result"
    }
   ],
   "source": [
    "train['Survived'].value_counts(normalize=True)"
   ]
  },
  {
   "cell_type": "code",
   "execution_count": 6,
   "id": "3d26761d",
   "metadata": {
    "_cell_guid": "9d45d535-5ea3-4322-8697-e05968852ef1",
    "_uuid": "a149474f-2236-45f2-94f1-b7392cfa3024",
    "collapsed": false,
    "execution": {
     "iopub.execute_input": "2023-02-05T11:29:04.265739Z",
     "iopub.status.busy": "2023-02-05T11:29:04.265317Z",
     "iopub.status.idle": "2023-02-05T11:29:04.273852Z",
     "shell.execute_reply": "2023-02-05T11:29:04.272844Z"
    },
    "jupyter": {
     "outputs_hidden": false
    },
    "papermill": {
     "duration": 0.022176,
     "end_time": "2023-02-05T11:29:04.276091",
     "exception": false,
     "start_time": "2023-02-05T11:29:04.253915",
     "status": "completed"
    },
    "tags": []
   },
   "outputs": [
    {
     "data": {
      "text/plain": [
       "PassengerId      int64\n",
       "Survived         int64\n",
       "Pclass           int64\n",
       "Name            object\n",
       "Sex             object\n",
       "Age            float64\n",
       "SibSp            int64\n",
       "Parch            int64\n",
       "Ticket          object\n",
       "Fare           float64\n",
       "Cabin           object\n",
       "Embarked        object\n",
       "dtype: object"
      ]
     },
     "execution_count": 6,
     "metadata": {},
     "output_type": "execute_result"
    }
   ],
   "source": [
    "train.dtypes"
   ]
  },
  {
   "cell_type": "code",
   "execution_count": 7,
   "id": "224c824a",
   "metadata": {
    "_cell_guid": "777646c9-5374-4986-89ce-8eb76d08f5d5",
    "_uuid": "305a9a94-d7bf-4a19-bf07-9fc3f31d107a",
    "collapsed": false,
    "execution": {
     "iopub.execute_input": "2023-02-05T11:29:04.298670Z",
     "iopub.status.busy": "2023-02-05T11:29:04.298224Z",
     "iopub.status.idle": "2023-02-05T11:29:04.302054Z",
     "shell.execute_reply": "2023-02-05T11:29:04.301208Z"
    },
    "jupyter": {
     "outputs_hidden": false
    },
    "papermill": {
     "duration": 0.017832,
     "end_time": "2023-02-05T11:29:04.304005",
     "exception": false,
     "start_time": "2023-02-05T11:29:04.286173",
     "status": "completed"
    },
    "tags": []
   },
   "outputs": [],
   "source": [
    "# import seaborn as sns\n",
    "# sns.pairplot(df, hue=\"Survived\", palette='pastel')"
   ]
  },
  {
   "cell_type": "code",
   "execution_count": 8,
   "id": "3977759b",
   "metadata": {
    "_cell_guid": "ae7dabe1-a6e6-4c7e-b2a7-624b3dd53eb3",
    "_uuid": "7910a08c-d6e8-402f-b582-24ebda0e23cc",
    "collapsed": false,
    "execution": {
     "iopub.execute_input": "2023-02-05T11:29:04.326297Z",
     "iopub.status.busy": "2023-02-05T11:29:04.325921Z",
     "iopub.status.idle": "2023-02-05T11:29:04.333087Z",
     "shell.execute_reply": "2023-02-05T11:29:04.332174Z"
    },
    "jupyter": {
     "outputs_hidden": false
    },
    "papermill": {
     "duration": 0.020965,
     "end_time": "2023-02-05T11:29:04.335137",
     "exception": false,
     "start_time": "2023-02-05T11:29:04.314172",
     "status": "completed"
    },
    "tags": []
   },
   "outputs": [
    {
     "data": {
      "text/plain": [
       "['Name', 'Sex', 'Ticket', 'Cabin', 'Embarked']"
      ]
     },
     "execution_count": 8,
     "metadata": {},
     "output_type": "execute_result"
    }
   ],
   "source": [
    "object_train = [i for i in train.columns if train[i].dtypes == 'object']\n",
    "object_train"
   ]
  },
  {
   "cell_type": "code",
   "execution_count": 9,
   "id": "d00a3c51",
   "metadata": {
    "_cell_guid": "566f7f7e-b250-459f-bb94-495fbbcef414",
    "_uuid": "5f24cb69-5f7e-436f-b18a-1e5d66ec295e",
    "collapsed": false,
    "execution": {
     "iopub.execute_input": "2023-02-05T11:29:04.357803Z",
     "iopub.status.busy": "2023-02-05T11:29:04.357339Z",
     "iopub.status.idle": "2023-02-05T11:29:04.368666Z",
     "shell.execute_reply": "2023-02-05T11:29:04.367733Z"
    },
    "jupyter": {
     "outputs_hidden": false
    },
    "papermill": {
     "duration": 0.025635,
     "end_time": "2023-02-05T11:29:04.371136",
     "exception": false,
     "start_time": "2023-02-05T11:29:04.345501",
     "status": "completed"
    },
    "tags": []
   },
   "outputs": [],
   "source": [
    "x = train[\"Age\"].median()\n",
    "train[\"Age\"].fillna(x, inplace = True)\n",
    "\n",
    "y = train[\"Fare\"].median()\n",
    "train[\"Fare\"].fillna(y, inplace = True)\n",
    "\n",
    "train[\"Embarked\"].fillna(method=\"ffill\", inplace = True)"
   ]
  },
  {
   "cell_type": "code",
   "execution_count": 10,
   "id": "91a784b8",
   "metadata": {
    "execution": {
     "iopub.execute_input": "2023-02-05T11:29:04.394106Z",
     "iopub.status.busy": "2023-02-05T11:29:04.393228Z",
     "iopub.status.idle": "2023-02-05T11:29:04.402783Z",
     "shell.execute_reply": "2023-02-05T11:29:04.401670Z"
    },
    "papermill": {
     "duration": 0.023595,
     "end_time": "2023-02-05T11:29:04.405061",
     "exception": false,
     "start_time": "2023-02-05T11:29:04.381466",
     "status": "completed"
    },
    "tags": []
   },
   "outputs": [],
   "source": [
    "a = test[\"Age\"].median()\n",
    "test[\"Age\"].fillna(a, inplace = True)\n",
    "\n",
    "b = test[\"Fare\"].median()\n",
    "test[\"Fare\"].fillna(b, inplace = True)\n",
    "\n",
    "test[\"Embarked\"].fillna(method=\"ffill\", inplace = True)"
   ]
  },
  {
   "cell_type": "code",
   "execution_count": 11,
   "id": "7ebcbba4",
   "metadata": {
    "_cell_guid": "cfb7e75c-7cf7-419b-bcc7-c560949dd60c",
    "_uuid": "9e298813-8379-46f6-a53a-5f2d02bebfe1",
    "collapsed": false,
    "execution": {
     "iopub.execute_input": "2023-02-05T11:29:04.428173Z",
     "iopub.status.busy": "2023-02-05T11:29:04.427398Z",
     "iopub.status.idle": "2023-02-05T11:29:04.437181Z",
     "shell.execute_reply": "2023-02-05T11:29:04.436184Z"
    },
    "jupyter": {
     "outputs_hidden": false
    },
    "papermill": {
     "duration": 0.023991,
     "end_time": "2023-02-05T11:29:04.439642",
     "exception": false,
     "start_time": "2023-02-05T11:29:04.415651",
     "status": "completed"
    },
    "tags": []
   },
   "outputs": [
    {
     "data": {
      "text/plain": [
       "PassengerId    0.000000\n",
       "Survived       0.000000\n",
       "Pclass         0.000000\n",
       "Name           0.000000\n",
       "Sex            0.000000\n",
       "Age            0.000000\n",
       "SibSp          0.000000\n",
       "Parch          0.000000\n",
       "Ticket         0.000000\n",
       "Fare           0.000000\n",
       "Cabin          0.771044\n",
       "Embarked       0.000000\n",
       "dtype: float64"
      ]
     },
     "execution_count": 11,
     "metadata": {},
     "output_type": "execute_result"
    }
   ],
   "source": [
    "train.isna().mean()"
   ]
  },
  {
   "cell_type": "code",
   "execution_count": 12,
   "id": "ba6b771e",
   "metadata": {
    "_cell_guid": "05ddce68-1ff3-4d25-bcbb-fc75bac03805",
    "_uuid": "017760c5-4907-4fbb-ba93-71e5eeb548fa",
    "collapsed": false,
    "execution": {
     "iopub.execute_input": "2023-02-05T11:29:04.462139Z",
     "iopub.status.busy": "2023-02-05T11:29:04.461419Z",
     "iopub.status.idle": "2023-02-05T11:29:04.485371Z",
     "shell.execute_reply": "2023-02-05T11:29:04.484620Z"
    },
    "jupyter": {
     "outputs_hidden": false
    },
    "papermill": {
     "duration": 0.037553,
     "end_time": "2023-02-05T11:29:04.487369",
     "exception": false,
     "start_time": "2023-02-05T11:29:04.449816",
     "status": "completed"
    },
    "tags": []
   },
   "outputs": [
    {
     "data": {
      "text/html": [
       "<div>\n",
       "<style scoped>\n",
       "    .dataframe tbody tr th:only-of-type {\n",
       "        vertical-align: middle;\n",
       "    }\n",
       "\n",
       "    .dataframe tbody tr th {\n",
       "        vertical-align: top;\n",
       "    }\n",
       "\n",
       "    .dataframe thead th {\n",
       "        text-align: right;\n",
       "    }\n",
       "</style>\n",
       "<table border=\"1\" class=\"dataframe\">\n",
       "  <thead>\n",
       "    <tr style=\"text-align: right;\">\n",
       "      <th></th>\n",
       "      <th>PassengerId</th>\n",
       "      <th>Survived</th>\n",
       "      <th>Pclass</th>\n",
       "      <th>Sex</th>\n",
       "      <th>Age</th>\n",
       "      <th>SibSp</th>\n",
       "      <th>Parch</th>\n",
       "      <th>Fare</th>\n",
       "      <th>Embarked</th>\n",
       "    </tr>\n",
       "  </thead>\n",
       "  <tbody>\n",
       "    <tr>\n",
       "      <th>0</th>\n",
       "      <td>1</td>\n",
       "      <td>0</td>\n",
       "      <td>3</td>\n",
       "      <td>male</td>\n",
       "      <td>22.0</td>\n",
       "      <td>1</td>\n",
       "      <td>0</td>\n",
       "      <td>7.2500</td>\n",
       "      <td>S</td>\n",
       "    </tr>\n",
       "    <tr>\n",
       "      <th>1</th>\n",
       "      <td>2</td>\n",
       "      <td>1</td>\n",
       "      <td>1</td>\n",
       "      <td>female</td>\n",
       "      <td>38.0</td>\n",
       "      <td>1</td>\n",
       "      <td>0</td>\n",
       "      <td>71.2833</td>\n",
       "      <td>C</td>\n",
       "    </tr>\n",
       "    <tr>\n",
       "      <th>2</th>\n",
       "      <td>3</td>\n",
       "      <td>1</td>\n",
       "      <td>3</td>\n",
       "      <td>female</td>\n",
       "      <td>26.0</td>\n",
       "      <td>0</td>\n",
       "      <td>0</td>\n",
       "      <td>7.9250</td>\n",
       "      <td>S</td>\n",
       "    </tr>\n",
       "    <tr>\n",
       "      <th>3</th>\n",
       "      <td>4</td>\n",
       "      <td>1</td>\n",
       "      <td>1</td>\n",
       "      <td>female</td>\n",
       "      <td>35.0</td>\n",
       "      <td>1</td>\n",
       "      <td>0</td>\n",
       "      <td>53.1000</td>\n",
       "      <td>S</td>\n",
       "    </tr>\n",
       "    <tr>\n",
       "      <th>4</th>\n",
       "      <td>5</td>\n",
       "      <td>0</td>\n",
       "      <td>3</td>\n",
       "      <td>male</td>\n",
       "      <td>35.0</td>\n",
       "      <td>0</td>\n",
       "      <td>0</td>\n",
       "      <td>8.0500</td>\n",
       "      <td>S</td>\n",
       "    </tr>\n",
       "    <tr>\n",
       "      <th>...</th>\n",
       "      <td>...</td>\n",
       "      <td>...</td>\n",
       "      <td>...</td>\n",
       "      <td>...</td>\n",
       "      <td>...</td>\n",
       "      <td>...</td>\n",
       "      <td>...</td>\n",
       "      <td>...</td>\n",
       "      <td>...</td>\n",
       "    </tr>\n",
       "    <tr>\n",
       "      <th>886</th>\n",
       "      <td>887</td>\n",
       "      <td>0</td>\n",
       "      <td>2</td>\n",
       "      <td>male</td>\n",
       "      <td>27.0</td>\n",
       "      <td>0</td>\n",
       "      <td>0</td>\n",
       "      <td>13.0000</td>\n",
       "      <td>S</td>\n",
       "    </tr>\n",
       "    <tr>\n",
       "      <th>887</th>\n",
       "      <td>888</td>\n",
       "      <td>1</td>\n",
       "      <td>1</td>\n",
       "      <td>female</td>\n",
       "      <td>19.0</td>\n",
       "      <td>0</td>\n",
       "      <td>0</td>\n",
       "      <td>30.0000</td>\n",
       "      <td>S</td>\n",
       "    </tr>\n",
       "    <tr>\n",
       "      <th>888</th>\n",
       "      <td>889</td>\n",
       "      <td>0</td>\n",
       "      <td>3</td>\n",
       "      <td>female</td>\n",
       "      <td>28.0</td>\n",
       "      <td>1</td>\n",
       "      <td>2</td>\n",
       "      <td>23.4500</td>\n",
       "      <td>S</td>\n",
       "    </tr>\n",
       "    <tr>\n",
       "      <th>889</th>\n",
       "      <td>890</td>\n",
       "      <td>1</td>\n",
       "      <td>1</td>\n",
       "      <td>male</td>\n",
       "      <td>26.0</td>\n",
       "      <td>0</td>\n",
       "      <td>0</td>\n",
       "      <td>30.0000</td>\n",
       "      <td>C</td>\n",
       "    </tr>\n",
       "    <tr>\n",
       "      <th>890</th>\n",
       "      <td>891</td>\n",
       "      <td>0</td>\n",
       "      <td>3</td>\n",
       "      <td>male</td>\n",
       "      <td>32.0</td>\n",
       "      <td>0</td>\n",
       "      <td>0</td>\n",
       "      <td>7.7500</td>\n",
       "      <td>Q</td>\n",
       "    </tr>\n",
       "  </tbody>\n",
       "</table>\n",
       "<p>891 rows × 9 columns</p>\n",
       "</div>"
      ],
      "text/plain": [
       "     PassengerId  Survived  Pclass     Sex   Age  SibSp  Parch     Fare  \\\n",
       "0              1         0       3    male  22.0      1      0   7.2500   \n",
       "1              2         1       1  female  38.0      1      0  71.2833   \n",
       "2              3         1       3  female  26.0      0      0   7.9250   \n",
       "3              4         1       1  female  35.0      1      0  53.1000   \n",
       "4              5         0       3    male  35.0      0      0   8.0500   \n",
       "..           ...       ...     ...     ...   ...    ...    ...      ...   \n",
       "886          887         0       2    male  27.0      0      0  13.0000   \n",
       "887          888         1       1  female  19.0      0      0  30.0000   \n",
       "888          889         0       3  female  28.0      1      2  23.4500   \n",
       "889          890         1       1    male  26.0      0      0  30.0000   \n",
       "890          891         0       3    male  32.0      0      0   7.7500   \n",
       "\n",
       "    Embarked  \n",
       "0          S  \n",
       "1          C  \n",
       "2          S  \n",
       "3          S  \n",
       "4          S  \n",
       "..       ...  \n",
       "886        S  \n",
       "887        S  \n",
       "888        S  \n",
       "889        C  \n",
       "890        Q  \n",
       "\n",
       "[891 rows x 9 columns]"
      ]
     },
     "execution_count": 12,
     "metadata": {},
     "output_type": "execute_result"
    }
   ],
   "source": [
    "train = train.drop(columns=['Cabin', 'Name', 'Ticket'], axis=1)\n",
    "test = test.drop(columns=['Cabin', 'Name', 'Ticket'], axis=1)\n",
    "train"
   ]
  },
  {
   "cell_type": "code",
   "execution_count": 13,
   "id": "90014547",
   "metadata": {
    "_cell_guid": "2d59df9b-9df0-4125-be8d-9035894fe49d",
    "_uuid": "6dfeffb7-13f6-4987-abcf-1e9db8b00c64",
    "collapsed": false,
    "execution": {
     "iopub.execute_input": "2023-02-05T11:29:04.510517Z",
     "iopub.status.busy": "2023-02-05T11:29:04.510130Z",
     "iopub.status.idle": "2023-02-05T11:29:05.517270Z",
     "shell.execute_reply": "2023-02-05T11:29:05.516250Z"
    },
    "jupyter": {
     "outputs_hidden": false
    },
    "papermill": {
     "duration": 1.021983,
     "end_time": "2023-02-05T11:29:05.520003",
     "exception": false,
     "start_time": "2023-02-05T11:29:04.498020",
     "status": "completed"
    },
    "tags": []
   },
   "outputs": [],
   "source": [
    "from sklearn.preprocessing import OneHotEncoder"
   ]
  },
  {
   "cell_type": "code",
   "execution_count": 14,
   "id": "0b8311d1",
   "metadata": {
    "_cell_guid": "5bb3be8f-ac7e-4bd5-be0d-df8e97b510e1",
    "_uuid": "bd814c1b-24fe-4964-8541-aba113fed043",
    "collapsed": false,
    "execution": {
     "iopub.execute_input": "2023-02-05T11:29:05.544834Z",
     "iopub.status.busy": "2023-02-05T11:29:05.544043Z",
     "iopub.status.idle": "2023-02-05T11:29:05.563800Z",
     "shell.execute_reply": "2023-02-05T11:29:05.562660Z"
    },
    "jupyter": {
     "outputs_hidden": false
    },
    "papermill": {
     "duration": 0.035187,
     "end_time": "2023-02-05T11:29:05.566496",
     "exception": false,
     "start_time": "2023-02-05T11:29:05.531309",
     "status": "completed"
    },
    "tags": []
   },
   "outputs": [],
   "source": [
    "enc = OneHotEncoder(sparse=False)\n",
    "columns_to_one_hot = ['Sex','Embarked']\n",
    "\n",
    "encoded_array_train = enc.fit_transform(train.loc[:,columns_to_one_hot])\n",
    "encoded_array_test = enc.fit_transform(test.loc[:,columns_to_one_hot])\n",
    "\n",
    "train_encoded = pd.DataFrame(encoded_array_train,columns=enc.get_feature_names_out() )\n",
    "test_encoded = pd.DataFrame(encoded_array_test,columns=enc.get_feature_names_out() )\n",
    "\n",
    "train_encoded = pd.concat([train,train_encoded],axis=1)\n",
    "test_encoded = pd.concat([test,test_encoded],axis=1)\n",
    "\n",
    "train_encoded.drop(labels= columns_to_one_hot,axis=1,inplace=True)\n",
    "test_encoded.drop(labels= columns_to_one_hot,axis=1,inplace=True)\n"
   ]
  },
  {
   "cell_type": "code",
   "execution_count": 15,
   "id": "ebe32f88",
   "metadata": {
    "execution": {
     "iopub.execute_input": "2023-02-05T11:29:05.589993Z",
     "iopub.status.busy": "2023-02-05T11:29:05.589542Z",
     "iopub.status.idle": "2023-02-05T11:29:05.615556Z",
     "shell.execute_reply": "2023-02-05T11:29:05.614212Z"
    },
    "papermill": {
     "duration": 0.042426,
     "end_time": "2023-02-05T11:29:05.619933",
     "exception": false,
     "start_time": "2023-02-05T11:29:05.577507",
     "status": "completed"
    },
    "tags": []
   },
   "outputs": [
    {
     "data": {
      "text/html": [
       "<div>\n",
       "<style scoped>\n",
       "    .dataframe tbody tr th:only-of-type {\n",
       "        vertical-align: middle;\n",
       "    }\n",
       "\n",
       "    .dataframe tbody tr th {\n",
       "        vertical-align: top;\n",
       "    }\n",
       "\n",
       "    .dataframe thead th {\n",
       "        text-align: right;\n",
       "    }\n",
       "</style>\n",
       "<table border=\"1\" class=\"dataframe\">\n",
       "  <thead>\n",
       "    <tr style=\"text-align: right;\">\n",
       "      <th></th>\n",
       "      <th>PassengerId</th>\n",
       "      <th>Pclass</th>\n",
       "      <th>Age</th>\n",
       "      <th>SibSp</th>\n",
       "      <th>Parch</th>\n",
       "      <th>Fare</th>\n",
       "      <th>Sex_female</th>\n",
       "      <th>Sex_male</th>\n",
       "      <th>Embarked_C</th>\n",
       "      <th>Embarked_Q</th>\n",
       "      <th>Embarked_S</th>\n",
       "    </tr>\n",
       "  </thead>\n",
       "  <tbody>\n",
       "    <tr>\n",
       "      <th>0</th>\n",
       "      <td>892</td>\n",
       "      <td>3</td>\n",
       "      <td>34.5</td>\n",
       "      <td>0</td>\n",
       "      <td>0</td>\n",
       "      <td>7.8292</td>\n",
       "      <td>0.0</td>\n",
       "      <td>1.0</td>\n",
       "      <td>0.0</td>\n",
       "      <td>1.0</td>\n",
       "      <td>0.0</td>\n",
       "    </tr>\n",
       "    <tr>\n",
       "      <th>1</th>\n",
       "      <td>893</td>\n",
       "      <td>3</td>\n",
       "      <td>47.0</td>\n",
       "      <td>1</td>\n",
       "      <td>0</td>\n",
       "      <td>7.0000</td>\n",
       "      <td>1.0</td>\n",
       "      <td>0.0</td>\n",
       "      <td>0.0</td>\n",
       "      <td>0.0</td>\n",
       "      <td>1.0</td>\n",
       "    </tr>\n",
       "    <tr>\n",
       "      <th>2</th>\n",
       "      <td>894</td>\n",
       "      <td>2</td>\n",
       "      <td>62.0</td>\n",
       "      <td>0</td>\n",
       "      <td>0</td>\n",
       "      <td>9.6875</td>\n",
       "      <td>0.0</td>\n",
       "      <td>1.0</td>\n",
       "      <td>0.0</td>\n",
       "      <td>1.0</td>\n",
       "      <td>0.0</td>\n",
       "    </tr>\n",
       "    <tr>\n",
       "      <th>3</th>\n",
       "      <td>895</td>\n",
       "      <td>3</td>\n",
       "      <td>27.0</td>\n",
       "      <td>0</td>\n",
       "      <td>0</td>\n",
       "      <td>8.6625</td>\n",
       "      <td>0.0</td>\n",
       "      <td>1.0</td>\n",
       "      <td>0.0</td>\n",
       "      <td>0.0</td>\n",
       "      <td>1.0</td>\n",
       "    </tr>\n",
       "    <tr>\n",
       "      <th>4</th>\n",
       "      <td>896</td>\n",
       "      <td>3</td>\n",
       "      <td>22.0</td>\n",
       "      <td>1</td>\n",
       "      <td>1</td>\n",
       "      <td>12.2875</td>\n",
       "      <td>1.0</td>\n",
       "      <td>0.0</td>\n",
       "      <td>0.0</td>\n",
       "      <td>0.0</td>\n",
       "      <td>1.0</td>\n",
       "    </tr>\n",
       "    <tr>\n",
       "      <th>...</th>\n",
       "      <td>...</td>\n",
       "      <td>...</td>\n",
       "      <td>...</td>\n",
       "      <td>...</td>\n",
       "      <td>...</td>\n",
       "      <td>...</td>\n",
       "      <td>...</td>\n",
       "      <td>...</td>\n",
       "      <td>...</td>\n",
       "      <td>...</td>\n",
       "      <td>...</td>\n",
       "    </tr>\n",
       "    <tr>\n",
       "      <th>413</th>\n",
       "      <td>1305</td>\n",
       "      <td>3</td>\n",
       "      <td>27.0</td>\n",
       "      <td>0</td>\n",
       "      <td>0</td>\n",
       "      <td>8.0500</td>\n",
       "      <td>0.0</td>\n",
       "      <td>1.0</td>\n",
       "      <td>0.0</td>\n",
       "      <td>0.0</td>\n",
       "      <td>1.0</td>\n",
       "    </tr>\n",
       "    <tr>\n",
       "      <th>414</th>\n",
       "      <td>1306</td>\n",
       "      <td>1</td>\n",
       "      <td>39.0</td>\n",
       "      <td>0</td>\n",
       "      <td>0</td>\n",
       "      <td>108.9000</td>\n",
       "      <td>1.0</td>\n",
       "      <td>0.0</td>\n",
       "      <td>1.0</td>\n",
       "      <td>0.0</td>\n",
       "      <td>0.0</td>\n",
       "    </tr>\n",
       "    <tr>\n",
       "      <th>415</th>\n",
       "      <td>1307</td>\n",
       "      <td>3</td>\n",
       "      <td>38.5</td>\n",
       "      <td>0</td>\n",
       "      <td>0</td>\n",
       "      <td>7.2500</td>\n",
       "      <td>0.0</td>\n",
       "      <td>1.0</td>\n",
       "      <td>0.0</td>\n",
       "      <td>0.0</td>\n",
       "      <td>1.0</td>\n",
       "    </tr>\n",
       "    <tr>\n",
       "      <th>416</th>\n",
       "      <td>1308</td>\n",
       "      <td>3</td>\n",
       "      <td>27.0</td>\n",
       "      <td>0</td>\n",
       "      <td>0</td>\n",
       "      <td>8.0500</td>\n",
       "      <td>0.0</td>\n",
       "      <td>1.0</td>\n",
       "      <td>0.0</td>\n",
       "      <td>0.0</td>\n",
       "      <td>1.0</td>\n",
       "    </tr>\n",
       "    <tr>\n",
       "      <th>417</th>\n",
       "      <td>1309</td>\n",
       "      <td>3</td>\n",
       "      <td>27.0</td>\n",
       "      <td>1</td>\n",
       "      <td>1</td>\n",
       "      <td>22.3583</td>\n",
       "      <td>0.0</td>\n",
       "      <td>1.0</td>\n",
       "      <td>1.0</td>\n",
       "      <td>0.0</td>\n",
       "      <td>0.0</td>\n",
       "    </tr>\n",
       "  </tbody>\n",
       "</table>\n",
       "<p>418 rows × 11 columns</p>\n",
       "</div>"
      ],
      "text/plain": [
       "     PassengerId  Pclass   Age  SibSp  Parch      Fare  Sex_female  Sex_male  \\\n",
       "0            892       3  34.5      0      0    7.8292         0.0       1.0   \n",
       "1            893       3  47.0      1      0    7.0000         1.0       0.0   \n",
       "2            894       2  62.0      0      0    9.6875         0.0       1.0   \n",
       "3            895       3  27.0      0      0    8.6625         0.0       1.0   \n",
       "4            896       3  22.0      1      1   12.2875         1.0       0.0   \n",
       "..           ...     ...   ...    ...    ...       ...         ...       ...   \n",
       "413         1305       3  27.0      0      0    8.0500         0.0       1.0   \n",
       "414         1306       1  39.0      0      0  108.9000         1.0       0.0   \n",
       "415         1307       3  38.5      0      0    7.2500         0.0       1.0   \n",
       "416         1308       3  27.0      0      0    8.0500         0.0       1.0   \n",
       "417         1309       3  27.0      1      1   22.3583         0.0       1.0   \n",
       "\n",
       "     Embarked_C  Embarked_Q  Embarked_S  \n",
       "0           0.0         1.0         0.0  \n",
       "1           0.0         0.0         1.0  \n",
       "2           0.0         1.0         0.0  \n",
       "3           0.0         0.0         1.0  \n",
       "4           0.0         0.0         1.0  \n",
       "..          ...         ...         ...  \n",
       "413         0.0         0.0         1.0  \n",
       "414         1.0         0.0         0.0  \n",
       "415         0.0         0.0         1.0  \n",
       "416         0.0         0.0         1.0  \n",
       "417         1.0         0.0         0.0  \n",
       "\n",
       "[418 rows x 11 columns]"
      ]
     },
     "execution_count": 15,
     "metadata": {},
     "output_type": "execute_result"
    }
   ],
   "source": [
    "test_encoded"
   ]
  },
  {
   "cell_type": "code",
   "execution_count": 16,
   "id": "f2a1c7a9",
   "metadata": {
    "execution": {
     "iopub.execute_input": "2023-02-05T11:29:05.644621Z",
     "iopub.status.busy": "2023-02-05T11:29:05.643457Z",
     "iopub.status.idle": "2023-02-05T11:29:05.650309Z",
     "shell.execute_reply": "2023-02-05T11:29:05.649544Z"
    },
    "papermill": {
     "duration": 0.021588,
     "end_time": "2023-02-05T11:29:05.652595",
     "exception": false,
     "start_time": "2023-02-05T11:29:05.631007",
     "status": "completed"
    },
    "tags": []
   },
   "outputs": [],
   "source": [
    "X = train_encoded.drop(columns=['Survived']).copy()\n",
    "y = train_encoded['Survived'].copy()"
   ]
  },
  {
   "cell_type": "code",
   "execution_count": 17,
   "id": "9a110a7c",
   "metadata": {
    "_cell_guid": "3b885371-7ff1-48f9-bb6d-d55db497cb3e",
    "_uuid": "794fa193-7858-4cfd-b3b2-bd9b752e9a4b",
    "collapsed": false,
    "execution": {
     "iopub.execute_input": "2023-02-05T11:29:05.676931Z",
     "iopub.status.busy": "2023-02-05T11:29:05.676139Z",
     "iopub.status.idle": "2023-02-05T11:29:05.681191Z",
     "shell.execute_reply": "2023-02-05T11:29:05.680475Z"
    },
    "jupyter": {
     "outputs_hidden": false
    },
    "papermill": {
     "duration": 0.019799,
     "end_time": "2023-02-05T11:29:05.683375",
     "exception": false,
     "start_time": "2023-02-05T11:29:05.663576",
     "status": "completed"
    },
    "tags": []
   },
   "outputs": [],
   "source": [
    "from sklearn.preprocessing import MinMaxScaler\n",
    "scaler = MinMaxScaler()"
   ]
  },
  {
   "cell_type": "code",
   "execution_count": 18,
   "id": "f64129b6",
   "metadata": {
    "execution": {
     "iopub.execute_input": "2023-02-05T11:29:05.707667Z",
     "iopub.status.busy": "2023-02-05T11:29:05.706890Z",
     "iopub.status.idle": "2023-02-05T11:29:05.716159Z",
     "shell.execute_reply": "2023-02-05T11:29:05.715126Z"
    },
    "papermill": {
     "duration": 0.02428,
     "end_time": "2023-02-05T11:29:05.718662",
     "exception": false,
     "start_time": "2023-02-05T11:29:05.694382",
     "status": "completed"
    },
    "tags": []
   },
   "outputs": [],
   "source": [
    "X_mm = pd.DataFrame(scaler.fit_transform(X), columns = X.columns)"
   ]
  },
  {
   "cell_type": "code",
   "execution_count": 19,
   "id": "ded272a5",
   "metadata": {
    "execution": {
     "iopub.execute_input": "2023-02-05T11:29:05.743423Z",
     "iopub.status.busy": "2023-02-05T11:29:05.742186Z",
     "iopub.status.idle": "2023-02-05T11:29:05.763059Z",
     "shell.execute_reply": "2023-02-05T11:29:05.761901Z"
    },
    "papermill": {
     "duration": 0.035684,
     "end_time": "2023-02-05T11:29:05.765410",
     "exception": false,
     "start_time": "2023-02-05T11:29:05.729726",
     "status": "completed"
    },
    "tags": []
   },
   "outputs": [
    {
     "data": {
      "text/html": [
       "<div>\n",
       "<style scoped>\n",
       "    .dataframe tbody tr th:only-of-type {\n",
       "        vertical-align: middle;\n",
       "    }\n",
       "\n",
       "    .dataframe tbody tr th {\n",
       "        vertical-align: top;\n",
       "    }\n",
       "\n",
       "    .dataframe thead th {\n",
       "        text-align: right;\n",
       "    }\n",
       "</style>\n",
       "<table border=\"1\" class=\"dataframe\">\n",
       "  <thead>\n",
       "    <tr style=\"text-align: right;\">\n",
       "      <th></th>\n",
       "      <th>PassengerId</th>\n",
       "      <th>Pclass</th>\n",
       "      <th>Age</th>\n",
       "      <th>SibSp</th>\n",
       "      <th>Parch</th>\n",
       "      <th>Fare</th>\n",
       "      <th>Sex_female</th>\n",
       "      <th>Sex_male</th>\n",
       "      <th>Embarked_C</th>\n",
       "      <th>Embarked_Q</th>\n",
       "      <th>Embarked_S</th>\n",
       "    </tr>\n",
       "  </thead>\n",
       "  <tbody>\n",
       "    <tr>\n",
       "      <th>0</th>\n",
       "      <td>0.000000</td>\n",
       "      <td>1.0</td>\n",
       "      <td>0.271174</td>\n",
       "      <td>0.125</td>\n",
       "      <td>0.0</td>\n",
       "      <td>0.014151</td>\n",
       "      <td>0.0</td>\n",
       "      <td>1.0</td>\n",
       "      <td>0.0</td>\n",
       "      <td>0.0</td>\n",
       "      <td>1.0</td>\n",
       "    </tr>\n",
       "    <tr>\n",
       "      <th>1</th>\n",
       "      <td>0.001124</td>\n",
       "      <td>0.0</td>\n",
       "      <td>0.472229</td>\n",
       "      <td>0.125</td>\n",
       "      <td>0.0</td>\n",
       "      <td>0.139136</td>\n",
       "      <td>1.0</td>\n",
       "      <td>0.0</td>\n",
       "      <td>1.0</td>\n",
       "      <td>0.0</td>\n",
       "      <td>0.0</td>\n",
       "    </tr>\n",
       "    <tr>\n",
       "      <th>2</th>\n",
       "      <td>0.002247</td>\n",
       "      <td>1.0</td>\n",
       "      <td>0.321438</td>\n",
       "      <td>0.000</td>\n",
       "      <td>0.0</td>\n",
       "      <td>0.015469</td>\n",
       "      <td>1.0</td>\n",
       "      <td>0.0</td>\n",
       "      <td>0.0</td>\n",
       "      <td>0.0</td>\n",
       "      <td>1.0</td>\n",
       "    </tr>\n",
       "    <tr>\n",
       "      <th>3</th>\n",
       "      <td>0.003371</td>\n",
       "      <td>0.0</td>\n",
       "      <td>0.434531</td>\n",
       "      <td>0.125</td>\n",
       "      <td>0.0</td>\n",
       "      <td>0.103644</td>\n",
       "      <td>1.0</td>\n",
       "      <td>0.0</td>\n",
       "      <td>0.0</td>\n",
       "      <td>0.0</td>\n",
       "      <td>1.0</td>\n",
       "    </tr>\n",
       "    <tr>\n",
       "      <th>4</th>\n",
       "      <td>0.004494</td>\n",
       "      <td>1.0</td>\n",
       "      <td>0.434531</td>\n",
       "      <td>0.000</td>\n",
       "      <td>0.0</td>\n",
       "      <td>0.015713</td>\n",
       "      <td>0.0</td>\n",
       "      <td>1.0</td>\n",
       "      <td>0.0</td>\n",
       "      <td>0.0</td>\n",
       "      <td>1.0</td>\n",
       "    </tr>\n",
       "  </tbody>\n",
       "</table>\n",
       "</div>"
      ],
      "text/plain": [
       "   PassengerId  Pclass       Age  SibSp  Parch      Fare  Sex_female  \\\n",
       "0     0.000000     1.0  0.271174  0.125    0.0  0.014151         0.0   \n",
       "1     0.001124     0.0  0.472229  0.125    0.0  0.139136         1.0   \n",
       "2     0.002247     1.0  0.321438  0.000    0.0  0.015469         1.0   \n",
       "3     0.003371     0.0  0.434531  0.125    0.0  0.103644         1.0   \n",
       "4     0.004494     1.0  0.434531  0.000    0.0  0.015713         0.0   \n",
       "\n",
       "   Sex_male  Embarked_C  Embarked_Q  Embarked_S  \n",
       "0       1.0         0.0         0.0         1.0  \n",
       "1       0.0         1.0         0.0         0.0  \n",
       "2       0.0         0.0         0.0         1.0  \n",
       "3       0.0         0.0         0.0         1.0  \n",
       "4       1.0         0.0         0.0         1.0  "
      ]
     },
     "execution_count": 19,
     "metadata": {},
     "output_type": "execute_result"
    }
   ],
   "source": [
    "X_mm.head()"
   ]
  },
  {
   "cell_type": "markdown",
   "id": "46e28b66",
   "metadata": {
    "papermill": {
     "duration": 0.011593,
     "end_time": "2023-02-05T11:29:05.790444",
     "exception": false,
     "start_time": "2023-02-05T11:29:05.778851",
     "status": "completed"
    },
    "tags": []
   },
   "source": [
    "# Step 3: **Logistic Regression**"
   ]
  },
  {
   "cell_type": "code",
   "execution_count": 20,
   "id": "d4a8bdb3",
   "metadata": {
    "execution": {
     "iopub.execute_input": "2023-02-05T11:29:05.816240Z",
     "iopub.status.busy": "2023-02-05T11:29:05.815819Z",
     "iopub.status.idle": "2023-02-05T11:29:05.943602Z",
     "shell.execute_reply": "2023-02-05T11:29:05.942640Z"
    },
    "papermill": {
     "duration": 0.144086,
     "end_time": "2023-02-05T11:29:05.946333",
     "exception": false,
     "start_time": "2023-02-05T11:29:05.802247",
     "status": "completed"
    },
    "tags": []
   },
   "outputs": [],
   "source": [
    "from sklearn.linear_model import LogisticRegression\n",
    "LR = LogisticRegression(solver = 'liblinear', penalty = 'l2', C=2)"
   ]
  },
  {
   "cell_type": "code",
   "execution_count": 21,
   "id": "bcf47f10",
   "metadata": {
    "execution": {
     "iopub.execute_input": "2023-02-05T11:29:05.975853Z",
     "iopub.status.busy": "2023-02-05T11:29:05.974956Z",
     "iopub.status.idle": "2023-02-05T11:29:05.982944Z",
     "shell.execute_reply": "2023-02-05T11:29:05.981818Z"
    },
    "papermill": {
     "duration": 0.023277,
     "end_time": "2023-02-05T11:29:05.985300",
     "exception": false,
     "start_time": "2023-02-05T11:29:05.962023",
     "status": "completed"
    },
    "tags": []
   },
   "outputs": [],
   "source": [
    "from sklearn.model_selection import train_test_split\n",
    "X_train, X_test, y_train, y_test = train_test_split(X_mm, y, test_size=0.33, random_state=42)"
   ]
  },
  {
   "cell_type": "code",
   "execution_count": 22,
   "id": "4ced145f",
   "metadata": {
    "execution": {
     "iopub.execute_input": "2023-02-05T11:29:06.009688Z",
     "iopub.status.busy": "2023-02-05T11:29:06.009256Z",
     "iopub.status.idle": "2023-02-05T11:29:06.015563Z",
     "shell.execute_reply": "2023-02-05T11:29:06.014505Z"
    },
    "papermill": {
     "duration": 0.021145,
     "end_time": "2023-02-05T11:29:06.017667",
     "exception": false,
     "start_time": "2023-02-05T11:29:05.996522",
     "status": "completed"
    },
    "tags": []
   },
   "outputs": [],
   "source": [
    "from sklearn.model_selection import GridSearchCV\n",
    "import warnings\n",
    "warnings.filterwarnings('ignore')\n",
    "\n",
    "parameters = {\n",
    "    'penalty' : ['l1','l2'], \n",
    "    'C'       : range(1,15),\n",
    "    'solver'  : ['liblinear', 'newton-cg', 'lbfgs', 'sag', 'saga'],\n",
    "}"
   ]
  },
  {
   "cell_type": "code",
   "execution_count": 23,
   "id": "7b3f6b71",
   "metadata": {
    "execution": {
     "iopub.execute_input": "2023-02-05T11:29:06.042055Z",
     "iopub.status.busy": "2023-02-05T11:29:06.041628Z",
     "iopub.status.idle": "2023-02-05T11:29:06.046918Z",
     "shell.execute_reply": "2023-02-05T11:29:06.045855Z"
    },
    "papermill": {
     "duration": 0.020401,
     "end_time": "2023-02-05T11:29:06.049399",
     "exception": false,
     "start_time": "2023-02-05T11:29:06.028998",
     "status": "completed"
    },
    "tags": []
   },
   "outputs": [],
   "source": [
    "clf = GridSearchCV(LR,               \n",
    "                   param_grid = parameters,  \n",
    "                   scoring='roc_auc',  \n",
    "                   cv=10)"
   ]
  },
  {
   "cell_type": "code",
   "execution_count": 24,
   "id": "d395ba3e",
   "metadata": {
    "execution": {
     "iopub.execute_input": "2023-02-05T11:29:06.074934Z",
     "iopub.status.busy": "2023-02-05T11:29:06.074469Z",
     "iopub.status.idle": "2023-02-05T11:29:21.036882Z",
     "shell.execute_reply": "2023-02-05T11:29:21.035674Z"
    },
    "papermill": {
     "duration": 14.97825,
     "end_time": "2023-02-05T11:29:21.039723",
     "exception": false,
     "start_time": "2023-02-05T11:29:06.061473",
     "status": "completed"
    },
    "tags": []
   },
   "outputs": [
    {
     "data": {
      "text/plain": [
       "GridSearchCV(cv=10, estimator=LogisticRegression(C=2, solver='liblinear'),\n",
       "             param_grid={'C': range(1, 15), 'penalty': ['l1', 'l2'],\n",
       "                         'solver': ['liblinear', 'newton-cg', 'lbfgs', 'sag',\n",
       "                                    'saga']},\n",
       "             scoring='roc_auc')"
      ]
     },
     "execution_count": 24,
     "metadata": {},
     "output_type": "execute_result"
    }
   ],
   "source": [
    "clf.fit(X_train,y_train)"
   ]
  },
  {
   "cell_type": "code",
   "execution_count": 25,
   "id": "9e341a8b",
   "metadata": {
    "execution": {
     "iopub.execute_input": "2023-02-05T11:29:21.065258Z",
     "iopub.status.busy": "2023-02-05T11:29:21.064599Z",
     "iopub.status.idle": "2023-02-05T11:29:21.071434Z",
     "shell.execute_reply": "2023-02-05T11:29:21.070013Z"
    },
    "papermill": {
     "duration": 0.022253,
     "end_time": "2023-02-05T11:29:21.073969",
     "exception": false,
     "start_time": "2023-02-05T11:29:21.051716",
     "status": "completed"
    },
    "tags": []
   },
   "outputs": [
    {
     "name": "stdout",
     "output_type": "stream",
     "text": [
      "Tuned Hyperparameters : {'C': 2, 'penalty': 'l2', 'solver': 'liblinear'}\n",
      "Accuracy : 0.8284471126004307\n"
     ]
    }
   ],
   "source": [
    "print(\"Tuned Hyperparameters :\", clf.best_params_)\n",
    "print(\"Accuracy :\",clf.best_score_)"
   ]
  },
  {
   "cell_type": "code",
   "execution_count": 26,
   "id": "4bba6e56",
   "metadata": {
    "execution": {
     "iopub.execute_input": "2023-02-05T11:29:21.100155Z",
     "iopub.status.busy": "2023-02-05T11:29:21.099728Z",
     "iopub.status.idle": "2023-02-05T11:29:21.111503Z",
     "shell.execute_reply": "2023-02-05T11:29:21.109961Z"
    },
    "papermill": {
     "duration": 0.027697,
     "end_time": "2023-02-05T11:29:21.113933",
     "exception": false,
     "start_time": "2023-02-05T11:29:21.086236",
     "status": "completed"
    },
    "tags": []
   },
   "outputs": [
    {
     "data": {
      "text/plain": [
       "LogisticRegression(C=2, solver='liblinear')"
      ]
     },
     "execution_count": 26,
     "metadata": {},
     "output_type": "execute_result"
    }
   ],
   "source": [
    "LR.fit(X_train, y_train)"
   ]
  },
  {
   "cell_type": "code",
   "execution_count": 27,
   "id": "0f85cbfa",
   "metadata": {
    "execution": {
     "iopub.execute_input": "2023-02-05T11:29:21.140767Z",
     "iopub.status.busy": "2023-02-05T11:29:21.140197Z",
     "iopub.status.idle": "2023-02-05T11:29:21.148150Z",
     "shell.execute_reply": "2023-02-05T11:29:21.146752Z"
    },
    "papermill": {
     "duration": 0.024837,
     "end_time": "2023-02-05T11:29:21.150871",
     "exception": false,
     "start_time": "2023-02-05T11:29:21.126034",
     "status": "completed"
    },
    "tags": []
   },
   "outputs": [],
   "source": [
    "predicted = LR.predict(X_test)"
   ]
  },
  {
   "cell_type": "code",
   "execution_count": 28,
   "id": "369ba317",
   "metadata": {
    "execution": {
     "iopub.execute_input": "2023-02-05T11:29:21.178165Z",
     "iopub.status.busy": "2023-02-05T11:29:21.177278Z",
     "iopub.status.idle": "2023-02-05T11:29:21.182786Z",
     "shell.execute_reply": "2023-02-05T11:29:21.181907Z"
    },
    "papermill": {
     "duration": 0.022009,
     "end_time": "2023-02-05T11:29:21.185094",
     "exception": false,
     "start_time": "2023-02-05T11:29:21.163085",
     "status": "completed"
    },
    "tags": []
   },
   "outputs": [],
   "source": [
    "from sklearn.metrics import accuracy_score\n",
    "from sklearn.metrics import roc_auc_score\n",
    "from sklearn.metrics import f1_score"
   ]
  },
  {
   "cell_type": "code",
   "execution_count": 29,
   "id": "21ca322d",
   "metadata": {
    "execution": {
     "iopub.execute_input": "2023-02-05T11:29:21.211011Z",
     "iopub.status.busy": "2023-02-05T11:29:21.210511Z",
     "iopub.status.idle": "2023-02-05T11:29:21.220962Z",
     "shell.execute_reply": "2023-02-05T11:29:21.219908Z"
    },
    "papermill": {
     "duration": 0.026453,
     "end_time": "2023-02-05T11:29:21.223514",
     "exception": false,
     "start_time": "2023-02-05T11:29:21.197061",
     "status": "completed"
    },
    "tags": []
   },
   "outputs": [
    {
     "data": {
      "text/plain": [
       "{'accuracy': 0.8067796610169492,\n",
       " 'f1': 0.748898678414097,\n",
       " 'roc': 0.7913095238095239}"
      ]
     },
     "execution_count": 29,
     "metadata": {},
     "output_type": "execute_result"
    }
   ],
   "source": [
    "scores = {'accuracy': accuracy_score(y_test, predicted, normalize=True),\n",
    "         'f1': f1_score(y_test, predicted),\n",
    "         'roc': roc_auc_score(y_test, predicted)}\n",
    "scores"
   ]
  },
  {
   "cell_type": "code",
   "execution_count": 30,
   "id": "3411f95f",
   "metadata": {
    "execution": {
     "iopub.execute_input": "2023-02-05T11:29:21.252769Z",
     "iopub.status.busy": "2023-02-05T11:29:21.251842Z",
     "iopub.status.idle": "2023-02-05T11:29:21.262273Z",
     "shell.execute_reply": "2023-02-05T11:29:21.261043Z"
    },
    "papermill": {
     "duration": 0.029481,
     "end_time": "2023-02-05T11:29:21.265276",
     "exception": false,
     "start_time": "2023-02-05T11:29:21.235795",
     "status": "completed"
    },
    "tags": []
   },
   "outputs": [],
   "source": [
    "test_mm = pd.DataFrame(scaler.fit_transform(test_encoded), columns = test_encoded.columns)"
   ]
  },
  {
   "cell_type": "code",
   "execution_count": 31,
   "id": "fb981cd5",
   "metadata": {
    "execution": {
     "iopub.execute_input": "2023-02-05T11:29:21.302288Z",
     "iopub.status.busy": "2023-02-05T11:29:21.301832Z",
     "iopub.status.idle": "2023-02-05T11:29:21.310329Z",
     "shell.execute_reply": "2023-02-05T11:29:21.308329Z"
    },
    "papermill": {
     "duration": 0.028008,
     "end_time": "2023-02-05T11:29:21.313271",
     "exception": false,
     "start_time": "2023-02-05T11:29:21.285263",
     "status": "completed"
    },
    "tags": []
   },
   "outputs": [],
   "source": [
    "predict_sub = LR.predict(test_mm)"
   ]
  },
  {
   "cell_type": "code",
   "execution_count": 32,
   "id": "85d919da",
   "metadata": {
    "execution": {
     "iopub.execute_input": "2023-02-05T11:29:21.343456Z",
     "iopub.status.busy": "2023-02-05T11:29:21.342591Z",
     "iopub.status.idle": "2023-02-05T11:29:21.352030Z",
     "shell.execute_reply": "2023-02-05T11:29:21.350633Z"
    },
    "papermill": {
     "duration": 0.028644,
     "end_time": "2023-02-05T11:29:21.355940",
     "exception": false,
     "start_time": "2023-02-05T11:29:21.327296",
     "status": "completed"
    },
    "tags": []
   },
   "outputs": [
    {
     "data": {
      "text/plain": [
       "array([0, 0, 0, 0, 1, 0, 1, 0, 1, 0, 0, 0, 1, 0, 1, 1, 0, 0, 1, 1, 0, 0,\n",
       "       1, 1, 1, 0, 1, 0, 0, 0, 0, 0, 0, 0, 0, 0, 1, 1, 0, 0, 0, 0, 0, 1,\n",
       "       1, 0, 0, 0, 1, 0, 0, 0, 1, 1, 0, 0, 0, 0, 0, 1, 0, 0, 0, 1, 1, 1,\n",
       "       1, 0, 1, 1, 1, 0, 1, 1, 1, 1, 0, 1, 0, 1, 0, 0, 0, 0, 0, 0, 1, 1,\n",
       "       1, 0, 1, 0, 1, 0, 1, 0, 1, 0, 1, 0, 1, 0, 0, 0, 1, 0, 0, 0, 0, 0,\n",
       "       0, 1, 1, 1, 1, 0, 0, 1, 1, 1, 1, 0, 1, 0, 0, 1, 0, 1, 0, 0, 0, 0,\n",
       "       1, 0, 0, 0, 0, 0, 1, 0, 0, 1, 0, 0, 0, 0, 0, 0, 0, 0, 1, 0, 0, 1,\n",
       "       0, 0, 1, 1, 0, 1, 1, 0, 1, 0, 0, 1, 0, 0, 1, 1, 0, 0, 0, 0, 0, 1,\n",
       "       1, 0, 1, 1, 0, 0, 1, 0, 1, 0, 1, 0, 0, 0, 0, 0, 0, 0, 0, 0, 1, 1,\n",
       "       0, 1, 1, 0, 0, 1, 0, 1, 1, 0, 1, 0, 0, 0, 0, 1, 0, 0, 1, 0, 1, 0,\n",
       "       1, 0, 1, 0, 1, 1, 0, 1, 0, 0, 0, 1, 0, 0, 0, 0, 0, 0, 1, 1, 1, 1,\n",
       "       0, 0, 0, 0, 1, 0, 1, 1, 1, 0, 1, 0, 0, 0, 0, 0, 1, 0, 0, 0, 1, 1,\n",
       "       0, 0, 0, 0, 1, 0, 0, 0, 1, 1, 0, 1, 0, 0, 0, 0, 1, 0, 1, 1, 1, 0,\n",
       "       0, 0, 0, 0, 0, 1, 0, 0, 0, 0, 1, 0, 0, 0, 0, 0, 0, 0, 1, 1, 0, 0,\n",
       "       0, 0, 0, 0, 0, 1, 1, 1, 0, 0, 0, 0, 0, 0, 0, 0, 1, 0, 1, 0, 0, 0,\n",
       "       1, 1, 0, 1, 0, 0, 0, 0, 0, 0, 0, 0, 0, 1, 0, 1, 0, 1, 0, 1, 1, 0,\n",
       "       0, 0, 1, 0, 1, 0, 0, 1, 0, 1, 1, 0, 1, 0, 0, 1, 1, 0, 0, 1, 0, 0,\n",
       "       1, 1, 1, 0, 0, 0, 0, 0, 1, 1, 0, 1, 0, 0, 0, 0, 0, 1, 0, 0, 0, 1,\n",
       "       0, 1, 0, 0, 1, 0, 1, 0, 0, 0, 0, 0, 1, 1, 1, 1, 1, 0, 1, 0, 0, 0])"
      ]
     },
     "execution_count": 32,
     "metadata": {},
     "output_type": "execute_result"
    }
   ],
   "source": [
    "predict_sub"
   ]
  },
  {
   "cell_type": "code",
   "execution_count": 33,
   "id": "e024fbea",
   "metadata": {
    "execution": {
     "iopub.execute_input": "2023-02-05T11:29:21.384633Z",
     "iopub.status.busy": "2023-02-05T11:29:21.384178Z",
     "iopub.status.idle": "2023-02-05T11:29:21.397555Z",
     "shell.execute_reply": "2023-02-05T11:29:21.396277Z"
    },
    "papermill": {
     "duration": 0.029858,
     "end_time": "2023-02-05T11:29:21.399821",
     "exception": false,
     "start_time": "2023-02-05T11:29:21.369963",
     "status": "completed"
    },
    "tags": []
   },
   "outputs": [
    {
     "data": {
      "text/plain": [
       "'PassengerId,Survived\\n892,0\\n893,0\\n894,0\\n895,0\\n896,1\\n897,0\\n898,1\\n899,0\\n900,1\\n901,0\\n902,0\\n903,0\\n904,1\\n905,0\\n906,1\\n907,1\\n908,0\\n909,0\\n910,1\\n911,1\\n912,0\\n913,0\\n914,1\\n915,1\\n916,1\\n917,0\\n918,1\\n919,0\\n920,0\\n921,0\\n922,0\\n923,0\\n924,0\\n925,0\\n926,0\\n927,0\\n928,1\\n929,1\\n930,0\\n931,0\\n932,0\\n933,0\\n934,0\\n935,1\\n936,1\\n937,0\\n938,0\\n939,0\\n940,1\\n941,0\\n942,0\\n943,0\\n944,1\\n945,1\\n946,0\\n947,0\\n948,0\\n949,0\\n950,0\\n951,1\\n952,0\\n953,0\\n954,0\\n955,1\\n956,1\\n957,1\\n958,1\\n959,0\\n960,1\\n961,1\\n962,1\\n963,0\\n964,1\\n965,1\\n966,1\\n967,1\\n968,0\\n969,1\\n970,0\\n971,1\\n972,0\\n973,0\\n974,0\\n975,0\\n976,0\\n977,0\\n978,1\\n979,1\\n980,1\\n981,0\\n982,1\\n983,0\\n984,1\\n985,0\\n986,1\\n987,0\\n988,1\\n989,0\\n990,1\\n991,0\\n992,1\\n993,0\\n994,0\\n995,0\\n996,1\\n997,0\\n998,0\\n999,0\\n1000,0\\n1001,0\\n1002,0\\n1003,1\\n1004,1\\n1005,1\\n1006,1\\n1007,0\\n1008,0\\n1009,1\\n1010,1\\n1011,1\\n1012,1\\n1013,0\\n1014,1\\n1015,0\\n1016,0\\n1017,1\\n1018,0\\n1019,1\\n1020,0\\n1021,0\\n1022,0\\n1023,0\\n1024,1\\n1025,0\\n1026,0\\n1027,0\\n1028,0\\n1029,0\\n1030,1\\n1031,0\\n1032,0\\n1033,1\\n1034,0\\n1035,0\\n1036,0\\n1037,0\\n1038,0\\n1039,0\\n1040,0\\n1041,0\\n1042,1\\n1043,0\\n1044,0\\n1045,1\\n1046,0\\n1047,0\\n1048,1\\n1049,1\\n1050,0\\n1051,1\\n1052,1\\n1053,0\\n1054,1\\n1055,0\\n1056,0\\n1057,1\\n1058,0\\n1059,0\\n1060,1\\n1061,1\\n1062,0\\n1063,0\\n1064,0\\n1065,0\\n1066,0\\n1067,1\\n1068,1\\n1069,0\\n1070,1\\n1071,1\\n1072,0\\n1073,0\\n1074,1\\n1075,0\\n1076,1\\n1077,0\\n1078,1\\n1079,0\\n1080,0\\n1081,0\\n1082,0\\n1083,0\\n1084,0\\n1085,0\\n1086,0\\n1087,0\\n1088,1\\n1089,1\\n1090,0\\n1091,1\\n1092,1\\n1093,0\\n1094,0\\n1095,1\\n1096,0\\n1097,1\\n1098,1\\n1099,0\\n1100,1\\n1101,0\\n1102,0\\n1103,0\\n1104,0\\n1105,1\\n1106,0\\n1107,0\\n1108,1\\n1109,0\\n1110,1\\n1111,0\\n1112,1\\n1113,0\\n1114,1\\n1115,0\\n1116,1\\n1117,1\\n1118,0\\n1119,1\\n1120,0\\n1121,0\\n1122,0\\n1123,1\\n1124,0\\n1125,0\\n1126,0\\n1127,0\\n1128,0\\n1129,0\\n1130,1\\n1131,1\\n1132,1\\n1133,1\\n1134,0\\n1135,0\\n1136,0\\n1137,0\\n1138,1\\n1139,0\\n1140,1\\n1141,1\\n1142,1\\n1143,0\\n1144,1\\n1145,0\\n1146,0\\n1147,0\\n1148,0\\n1149,0\\n1150,1\\n1151,0\\n1152,0\\n1153,0\\n1154,1\\n1155,1\\n1156,0\\n1157,0\\n1158,0\\n1159,0\\n1160,1\\n1161,0\\n1162,0\\n1163,0\\n1164,1\\n1165,1\\n1166,0\\n1167,1\\n1168,0\\n1169,0\\n1170,0\\n1171,0\\n1172,1\\n1173,0\\n1174,1\\n1175,1\\n1176,1\\n1177,0\\n1178,0\\n1179,0\\n1180,0\\n1181,0\\n1182,0\\n1183,1\\n1184,0\\n1185,0\\n1186,0\\n1187,0\\n1188,1\\n1189,0\\n1190,0\\n1191,0\\n1192,0\\n1193,0\\n1194,0\\n1195,0\\n1196,1\\n1197,1\\n1198,0\\n1199,0\\n1200,0\\n1201,0\\n1202,0\\n1203,0\\n1204,0\\n1205,1\\n1206,1\\n1207,1\\n1208,0\\n1209,0\\n1210,0\\n1211,0\\n1212,0\\n1213,0\\n1214,0\\n1215,0\\n1216,1\\n1217,0\\n1218,1\\n1219,0\\n1220,0\\n1221,0\\n1222,1\\n1223,1\\n1224,0\\n1225,1\\n1226,0\\n1227,0\\n1228,0\\n1229,0\\n1230,0\\n1231,0\\n1232,0\\n1233,0\\n1234,0\\n1235,1\\n1236,0\\n1237,1\\n1238,0\\n1239,1\\n1240,0\\n1241,1\\n1242,1\\n1243,0\\n1244,0\\n1245,0\\n1246,1\\n1247,0\\n1248,1\\n1249,0\\n1250,0\\n1251,1\\n1252,0\\n1253,1\\n1254,1\\n1255,0\\n1256,1\\n1257,0\\n1258,0\\n1259,1\\n1260,1\\n1261,0\\n1262,0\\n1263,1\\n1264,0\\n1265,0\\n1266,1\\n1267,1\\n1268,1\\n1269,0\\n1270,0\\n1271,0\\n1272,0\\n1273,0\\n1274,1\\n1275,1\\n1276,0\\n1277,1\\n1278,0\\n1279,0\\n1280,0\\n1281,0\\n1282,0\\n1283,1\\n1284,0\\n1285,0\\n1286,0\\n1287,1\\n1288,0\\n1289,1\\n1290,0\\n1291,0\\n1292,1\\n1293,0\\n1294,1\\n1295,0\\n1296,0\\n1297,0\\n1298,0\\n1299,0\\n1300,1\\n1301,1\\n1302,1\\n1303,1\\n1304,1\\n1305,0\\n1306,1\\n1307,0\\n1308,0\\n1309,0\\n'"
      ]
     },
     "execution_count": 33,
     "metadata": {},
     "output_type": "execute_result"
    }
   ],
   "source": [
    "submition = pd.DataFrame({'PassengerId':test['PassengerId'], 'Survived': predict_sub})\n",
    "submition.to_csv(index=False)"
   ]
  },
  {
   "cell_type": "code",
   "execution_count": 34,
   "id": "2e0e2452",
   "metadata": {
    "execution": {
     "iopub.execute_input": "2023-02-05T11:29:21.428484Z",
     "iopub.status.busy": "2023-02-05T11:29:21.427250Z",
     "iopub.status.idle": "2023-02-05T11:29:21.432289Z",
     "shell.execute_reply": "2023-02-05T11:29:21.431463Z"
    },
    "papermill": {
     "duration": 0.021705,
     "end_time": "2023-02-05T11:29:21.434499",
     "exception": false,
     "start_time": "2023-02-05T11:29:21.412794",
     "status": "completed"
    },
    "tags": []
   },
   "outputs": [],
   "source": [
    "import base64\n",
    "from IPython.display import HTML"
   ]
  },
  {
   "cell_type": "code",
   "execution_count": 35,
   "id": "b563ecd3",
   "metadata": {
    "execution": {
     "iopub.execute_input": "2023-02-05T11:29:21.461162Z",
     "iopub.status.busy": "2023-02-05T11:29:21.460141Z",
     "iopub.status.idle": "2023-02-05T11:29:21.467097Z",
     "shell.execute_reply": "2023-02-05T11:29:21.466178Z"
    },
    "papermill": {
     "duration": 0.02258,
     "end_time": "2023-02-05T11:29:21.469412",
     "exception": false,
     "start_time": "2023-02-05T11:29:21.446832",
     "status": "completed"
    },
    "tags": []
   },
   "outputs": [],
   "source": [
    "def create_download_link(df, title = \"Download CSV file\", filename = \"sub.csv\"):  \n",
    "    csv = df.to_csv()\n",
    "    b64 = base64.b64encode(csv.encode())\n",
    "    payload = b64.decode()\n",
    "    html = '<a download=\"{filename}\" href=\"data:text/csv;base64,{payload}\" target=\"_blank\">{title}</a>'\n",
    "    html = html.format(payload=payload,title=title,filename=filename)\n",
    "    return HTML(html)"
   ]
  },
  {
   "cell_type": "code",
   "execution_count": 36,
   "id": "4e5e7494",
   "metadata": {
    "execution": {
     "iopub.execute_input": "2023-02-05T11:29:21.497441Z",
     "iopub.status.busy": "2023-02-05T11:29:21.496780Z",
     "iopub.status.idle": "2023-02-05T11:29:21.505404Z",
     "shell.execute_reply": "2023-02-05T11:29:21.504367Z"
    },
    "papermill": {
     "duration": 0.025588,
     "end_time": "2023-02-05T11:29:21.507515",
     "exception": false,
     "start_time": "2023-02-05T11:29:21.481927",
     "status": "completed"
    },
    "tags": []
   },
   "outputs": [
    {
     "data": {
      "text/html": [
       "<a download=\"sub.csv\" href=\"data:text/csv;base64,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\" target=\"_blank\">Download CSV file</a>"
      ],
      "text/plain": [
       "<IPython.core.display.HTML object>"
      ]
     },
     "execution_count": 36,
     "metadata": {},
     "output_type": "execute_result"
    }
   ],
   "source": [
    "create_download_link(submition)"
   ]
  },
  {
   "cell_type": "code",
   "execution_count": null,
   "id": "ece78740",
   "metadata": {
    "papermill": {
     "duration": 0.012232,
     "end_time": "2023-02-05T11:29:21.532158",
     "exception": false,
     "start_time": "2023-02-05T11:29:21.519926",
     "status": "completed"
    },
    "tags": []
   },
   "outputs": [],
   "source": []
  }
 ],
 "metadata": {
  "kernelspec": {
   "display_name": "Python 3",
   "language": "python",
   "name": "python3"
  },
  "language_info": {
   "codemirror_mode": {
    "name": "ipython",
    "version": 3
   },
   "file_extension": ".py",
   "mimetype": "text/x-python",
   "name": "python",
   "nbconvert_exporter": "python",
   "pygments_lexer": "ipython3",
   "version": "3.7.12"
  },
  "papermill": {
   "default_parameters": {},
   "duration": 28.192086,
   "end_time": "2023-02-05T11:29:22.267485",
   "environment_variables": {},
   "exception": null,
   "input_path": "__notebook__.ipynb",
   "output_path": "__notebook__.ipynb",
   "parameters": {},
   "start_time": "2023-02-05T11:28:54.075399",
   "version": "2.3.4"
  }
 },
 "nbformat": 4,
 "nbformat_minor": 5
}
